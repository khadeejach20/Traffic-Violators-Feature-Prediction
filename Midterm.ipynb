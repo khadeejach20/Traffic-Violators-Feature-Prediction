{
 "cells": [
  {
   "cell_type": "markdown",
   "id": "a6a5ede3",
   "metadata": {},
   "source": [
    "# Traffic Violators Feature Prediction"
   ]
  },
  {
   "cell_type": "markdown",
   "id": "efc154cf",
   "metadata": {},
   "source": [
    "## I. Introduction\n",
    "  - Chen, H., Chung, W., Xu, J.J., Wang, G., Qin, Y., Chau, M.: Crime data mining: a general framework and some examples. computer 37(4) (2004) 50–56\n",
    "  - Md Amiruzzaman, Kent State University, Kent, OH 44242, USA: Prediction of Traffic-Violation Using Data Mining Techniques\n",
    "  - https://www.encyclopedia.com/law/encyclopedias-almanacs-transcripts-and-maps/traffic-violations#:~:text=Department%20of%20Transportation-,Background,of%2012%20miles%20per%20hour.\n",
    "\n",
    "\n",
    "### 1. Domain-specific area: Traffic Rule Violation\n",
    "I've always been interested in anything related to the crime world and understanding the psychology of the perpetrators so while looking for topics I found this dataset which I thought was the perfect fit for this assignment.\n",
    "\n",
    "A traffic violation is any violation of vehicle laws that is committed by the driver of a vehicle.\n",
    "Traffic violations followed the invention of the automobile. The first traffic ticket in the United States was allegedly given to a New York City cab driver on May 20, 1899, for going at the breakneck speed of 12 miles per hour. Since that time, countless citations have been issued for traffic violations across the country, and states have reaped untold billions of dollars of revenue from violators.\n",
    "\n",
    "The most common type of traffic violation is a speed limit violation among the many other types of violations. I would like to explore motivational factors which makes the driver violate if I do find one.\n",
    "\n",
    "Traffic rules are important for safety as traffic laws are to prevent drivers from causing accidents or hitting pedestrians. They are also to help control the flow of traffic so that it is more\n",
    "efficient. There are number of reasons that causes traffic-violations. As the number of vehicles are increasing every day, so does the chance of traffic violation and they often lead to road accidents and injuries.\n",
    "\n",
    "Chen et al. classified different types of crime at different law-enforcement\n",
    "level. Such as, sex crime in law-enforcement level two, and theft (e.g., robbery,\n",
    "burglary, larceny, etc.) in law-enforcement level three. In their classification,\n",
    "traffic-violation is one of the common local crimes. In general, bad weather,\n",
    "unskilled drivers, drunk drivers, and drivers who pay less attention while driving\n",
    "may cause traffic-violations, as well as road accidents. However, there may be\n",
    "some other contributing reasons that may lead to traffic-violations and road ac-\n",
    "cidents. For example, speeding, reckless driving, driving under influence of drugs\n",
    "or alcohol, hit-and-run, road rage, etc. My focus will mainly be on crimes\n",
    "and who is committing them, rather than traffic-violations."
   ]
  },
  {
   "cell_type": "markdown",
   "id": "5305bea5",
   "metadata": {},
   "source": [
    "### 2. Dataset\n",
    "I was looking for a dataset which had some flaws so I could show my cleaning skills and have enough data to make me ask question I would like to look into so I could complete all the steps outlined in this assignment.\n",
    "\n",
    "This dataset had many column headings which related to the questions I would have if I were to carry out an analysis on traffic violations e.g age, gender, race, type etc.\n",
    "Another reason was the dataset had the right amount of data I needed for this project i.e not too memory reliant and lightweight.\n",
    "\n",
    "#### Source\n",
    "  - https://www.kaggle.com/datasets/shubamsumbria/traffic-violations-dataset \n",
    "  - Traffic and Drugs Related Violations Dataset, its method of collection has not been stated. The dataset can be accessed via the Kaggle official website\n",
    "  \n",
    "#### Dataset details\n",
    "\n",
    "Contains 52966 rows × 15 columns  \n",
    "This dataset has around 53 000 traffic violation records with the following attributes:\n",
    "\n",
    " - stop_date - Date of violation\n",
    " - stop_time - Time of violation\n",
    " - driver_gender - Gender of violators (Male-M, Female-F)\n",
    " - driver_age - Age of violators when the violation occured\n",
    " - driver_race - Race of violators\n",
    " - violation - Category of violation :\n",
    "    - Speeding\n",
    "    - Moving Violation (Reckless Driving, Hit and run, Assaulting another driver, pedestrian, improper turns and lane changes, etc)\n",
    "    - Equipment (Window tint violations, Headlight/taillights out, Loud exhaust, Cracked windshield, etc.)\n",
    "    - Registration/Plates\n",
    "    - Seat Belt\n",
    "    - other (Call for Service, Violation of City/Town Ordinance, Suspicious Person, Motorist Assist/Courtesy, etc.)\n",
    " - search_conducted - Whether search is conducted in True and False form\n",
    " - stop_outcome - Result of violation\n",
    " - is_arrested - Whether a person was arrested in True and False form\n",
    " - stop_duration - Detained time for violators approx (in minutes)\n",
    " - drugsrelatedstop - Whether a person was involved in drugs crime (True, False)\n",
    "\n",
    "#### License\n",
    "\n",
    "License - Other \n",
    "\n",
    "From https://www.kaggle.com/general/116302 the meaning of Other    \n",
    "\n",
    "\"    \n",
    "Other  \n",
    "Additional License Coverage Options  \n",
    "If a license is not listed in the data.world menu options, you may select Other and specify the details in the summary of your dataset.   \n",
    "  \n",
    "No license specified    \n",
    "No one can use, share, distribute, re-post, add to, transform or change your dataset if you have not specified a license.    \n",
    "   \n",
    "These descriptions are only summaries of these licenses. For the actual text of the licenses, which we strongly encourage you to read, click on the links provided.     \n",
    "\"    \n",
    "    \n",
    "Basically the summary of the dataset has not specified the type of license so the license is unknown"
   ]
  },
  {
   "cell_type": "markdown",
   "id": "608377ab",
   "metadata": {},
   "source": [
    "### 3. Objectives of the project\n",
    "The purpose of this study is to predict traffic-violations based on previous\n",
    "incidents and to find any relationship worth looking into that would ask for some analysis skills  which would then help me to utilize regression analysis to develop prediction models. The findings of this study (which I by no means say is reliable as the dataset could be biased or I could make mistakes etc.) could help prevent some traffic-violations or reduce the chance of occurrence by finding the attributes of a person who is likely to commit a traffic violation.\n",
    "These results can be used to increase cautions and traffic-safety tips\n",
    "\n",
    "Some of the question I plant on investigating are as follows:\n",
    "  - Hour in which violation frequently occurs\n",
    "  - Age and violation correlation\n",
    "  - Race ratio and violation correlation\n",
    "  - Violation under the influence of drug and age correlation\n",
    "  - Predict who is likely to commit a violation"
   ]
  },
  {
   "cell_type": "markdown",
   "id": "18ca79b7",
   "metadata": {},
   "source": [
    "## II. Implementation"
   ]
  },
  {
   "cell_type": "code",
   "execution_count": 42,
   "id": "77980db7",
   "metadata": {},
   "outputs": [],
   "source": [
    "# Import libraries and modules\n",
    "import pandas as pd\n",
    "import numpy as np\n",
    "import seaborn as sns\n",
    "import missingno as msno\n",
    "import matplotlib.pyplot as plt\n",
    "from sklearn.model_selection import train_test_split\n",
    "from sklearn.ensemble import RandomForestClassifier\n",
    "from sklearn.model_selection import GridSearchCV\n",
    "from sklearn.metrics import accuracy_score, recall_score, plot_roc_curve\n",
    "from sklearn.metrics import mean_squared_error\n",
    "import math\n",
    "\n",
    "\n",
    "# Set all graphs to a seaborn style with a grey background grid which makes reading graphs easier\n",
    "sns.set()"
   ]
  },
  {
   "cell_type": "markdown",
   "id": "2968ccba",
   "metadata": {},
   "source": [
    "### 1. Preprocessing\n",
    "The data is a csv file and has been locally downloaded. All modification will be made on a dataframe so the file will not be distorted."
   ]
  },
  {
   "cell_type": "markdown",
   "id": "b910c3c6",
   "metadata": {},
   "source": [
    "#### Data cleaning & modifications\n",
    " - Creating the dataframe\n",
    " - Making the dataframe so to clean it up for the analysis"
   ]
  },
  {
   "cell_type": "code",
   "execution_count": 43,
   "id": "746162f4",
   "metadata": {},
   "outputs": [
    {
     "data": {
      "text/html": [
       "<div>\n",
       "<style scoped>\n",
       "    .dataframe tbody tr th:only-of-type {\n",
       "        vertical-align: middle;\n",
       "    }\n",
       "\n",
       "    .dataframe tbody tr th {\n",
       "        vertical-align: top;\n",
       "    }\n",
       "\n",
       "    .dataframe thead th {\n",
       "        text-align: right;\n",
       "    }\n",
       "</style>\n",
       "<table border=\"1\" class=\"dataframe\">\n",
       "  <thead>\n",
       "    <tr style=\"text-align: right;\">\n",
       "      <th></th>\n",
       "      <th>stop_date</th>\n",
       "      <th>stop_time</th>\n",
       "      <th>country_name</th>\n",
       "      <th>driver_gender</th>\n",
       "      <th>driver_age_raw</th>\n",
       "      <th>driver_age</th>\n",
       "      <th>driver_race</th>\n",
       "      <th>violation_raw</th>\n",
       "      <th>violation</th>\n",
       "      <th>search_conducted</th>\n",
       "      <th>search_type</th>\n",
       "      <th>stop_outcome</th>\n",
       "      <th>is_arrested</th>\n",
       "      <th>stop_duration</th>\n",
       "      <th>drugs_related_stop</th>\n",
       "    </tr>\n",
       "  </thead>\n",
       "  <tbody>\n",
       "    <tr>\n",
       "      <th>0</th>\n",
       "      <td>1/2/2005</td>\n",
       "      <td>1:55</td>\n",
       "      <td>NaN</td>\n",
       "      <td>M</td>\n",
       "      <td>1985.0</td>\n",
       "      <td>20.0</td>\n",
       "      <td>White</td>\n",
       "      <td>Speeding</td>\n",
       "      <td>Speeding</td>\n",
       "      <td>False</td>\n",
       "      <td>NaN</td>\n",
       "      <td>Citation</td>\n",
       "      <td>False</td>\n",
       "      <td>0-15 Min</td>\n",
       "      <td>False</td>\n",
       "    </tr>\n",
       "    <tr>\n",
       "      <th>1</th>\n",
       "      <td>1/18/2005</td>\n",
       "      <td>8:15</td>\n",
       "      <td>NaN</td>\n",
       "      <td>M</td>\n",
       "      <td>1965.0</td>\n",
       "      <td>40.0</td>\n",
       "      <td>White</td>\n",
       "      <td>Speeding</td>\n",
       "      <td>Speeding</td>\n",
       "      <td>False</td>\n",
       "      <td>NaN</td>\n",
       "      <td>Citation</td>\n",
       "      <td>False</td>\n",
       "      <td>0-15 Min</td>\n",
       "      <td>False</td>\n",
       "    </tr>\n",
       "    <tr>\n",
       "      <th>2</th>\n",
       "      <td>1/23/2005</td>\n",
       "      <td>23:15</td>\n",
       "      <td>NaN</td>\n",
       "      <td>M</td>\n",
       "      <td>1972.0</td>\n",
       "      <td>33.0</td>\n",
       "      <td>White</td>\n",
       "      <td>Speeding</td>\n",
       "      <td>Speeding</td>\n",
       "      <td>False</td>\n",
       "      <td>NaN</td>\n",
       "      <td>Citation</td>\n",
       "      <td>False</td>\n",
       "      <td>0-15 Min</td>\n",
       "      <td>False</td>\n",
       "    </tr>\n",
       "    <tr>\n",
       "      <th>3</th>\n",
       "      <td>2/20/2005</td>\n",
       "      <td>17:15</td>\n",
       "      <td>NaN</td>\n",
       "      <td>M</td>\n",
       "      <td>1986.0</td>\n",
       "      <td>19.0</td>\n",
       "      <td>White</td>\n",
       "      <td>Call for Service</td>\n",
       "      <td>Other</td>\n",
       "      <td>False</td>\n",
       "      <td>NaN</td>\n",
       "      <td>Arrest Driver</td>\n",
       "      <td>True</td>\n",
       "      <td>16-30 Min</td>\n",
       "      <td>False</td>\n",
       "    </tr>\n",
       "    <tr>\n",
       "      <th>4</th>\n",
       "      <td>3/14/2005</td>\n",
       "      <td>10:00</td>\n",
       "      <td>NaN</td>\n",
       "      <td>F</td>\n",
       "      <td>1984.0</td>\n",
       "      <td>21.0</td>\n",
       "      <td>White</td>\n",
       "      <td>Speeding</td>\n",
       "      <td>Speeding</td>\n",
       "      <td>False</td>\n",
       "      <td>NaN</td>\n",
       "      <td>Citation</td>\n",
       "      <td>False</td>\n",
       "      <td>0-15 Min</td>\n",
       "      <td>False</td>\n",
       "    </tr>\n",
       "  </tbody>\n",
       "</table>\n",
       "</div>"
      ],
      "text/plain": [
       "   stop_date stop_time  country_name driver_gender  driver_age_raw  \\\n",
       "0   1/2/2005      1:55           NaN             M          1985.0   \n",
       "1  1/18/2005      8:15           NaN             M          1965.0   \n",
       "2  1/23/2005     23:15           NaN             M          1972.0   \n",
       "3  2/20/2005     17:15           NaN             M          1986.0   \n",
       "4  3/14/2005     10:00           NaN             F          1984.0   \n",
       "\n",
       "   driver_age driver_race     violation_raw violation search_conducted  \\\n",
       "0        20.0       White          Speeding  Speeding            False   \n",
       "1        40.0       White          Speeding  Speeding            False   \n",
       "2        33.0       White          Speeding  Speeding            False   \n",
       "3        19.0       White  Call for Service     Other            False   \n",
       "4        21.0       White          Speeding  Speeding            False   \n",
       "\n",
       "  search_type   stop_outcome is_arrested stop_duration drugs_related_stop  \n",
       "0         NaN       Citation       False      0-15 Min              False  \n",
       "1         NaN       Citation       False      0-15 Min              False  \n",
       "2         NaN       Citation       False      0-15 Min              False  \n",
       "3         NaN  Arrest Driver        True     16-30 Min              False  \n",
       "4         NaN       Citation       False      0-15 Min              False  "
      ]
     },
     "execution_count": 43,
     "metadata": {},
     "output_type": "execute_result"
    }
   ],
   "source": [
    "#import csv\n",
    "dataset = pd.read_csv(\"Dataset/traffic_violaions.csv\")\n",
    "dataset.head()"
   ]
  },
  {
   "cell_type": "code",
   "execution_count": 44,
   "id": "cbb6371d",
   "metadata": {},
   "outputs": [
    {
     "name": "stdout",
     "output_type": "stream",
     "text": [
      "<class 'pandas.core.frame.DataFrame'>\n",
      "RangeIndex: 52966 entries, 0 to 52965\n",
      "Data columns (total 15 columns):\n",
      " #   Column              Non-Null Count  Dtype  \n",
      "---  ------              --------------  -----  \n",
      " 0   stop_date           52966 non-null  object \n",
      " 1   stop_time           52965 non-null  object \n",
      " 2   country_name        0 non-null      float64\n",
      " 3   driver_gender       49580 non-null  object \n",
      " 4   driver_age_raw      49588 non-null  float64\n",
      " 5   driver_age          49346 non-null  float64\n",
      " 6   driver_race         49581 non-null  object \n",
      " 7   violation_raw       49581 non-null  object \n",
      " 8   violation           49581 non-null  object \n",
      " 9   search_conducted    52965 non-null  object \n",
      " 10  search_type         2085 non-null   object \n",
      " 11  stop_outcome        49581 non-null  object \n",
      " 12  is_arrested         49581 non-null  object \n",
      " 13  stop_duration       49581 non-null  object \n",
      " 14  drugs_related_stop  52965 non-null  object \n",
      "dtypes: float64(3), object(12)\n",
      "memory usage: 6.1+ MB\n"
     ]
    }
   ],
   "source": [
    "# showing the dataset information\n",
    "dataset.info()"
   ]
  },
  {
   "cell_type": "markdown",
   "id": "f2145f00",
   "metadata": {},
   "source": [
    "I will be visualising the missing value using the misssingno library  \n",
    "This article guided me through this process: https://towardsdatascience.com/using-the-missingno-python-library-to-identify-and-visualise-missing-data-prior-to-machine-learning-34c8c5b5f009"
   ]
  },
  {
   "cell_type": "code",
   "execution_count": 45,
   "id": "9dfe1bcb",
   "metadata": {},
   "outputs": [
    {
     "data": {
      "text/plain": [
       "<AxesSubplot:>"
      ]
     },
     "execution_count": 45,
     "metadata": {},
     "output_type": "execute_result"
    },
    {
     "data": {
      "image/png": "[encoded data removed]",
      "text/plain": [
       "<Figure size 1728x720 with 3 Axes>"
      ]
     },
     "metadata": {},
     "output_type": "display_data"
    }
   ],
   "source": [
    "# The barplot provides a simple plot where each bar represents a column within the dataframe\n",
    "msno.bar(dataset)"
   ]
  },
  {
   "cell_type": "markdown",
   "id": "4debde60",
   "metadata": {},
   "source": [
    "We can clearly see that country name and search type are seriously missing values.\n",
    "I am going to drop these 2 columns as there are too many missing values for it to be of any use."
   ]
  },
  {
   "cell_type": "code",
   "execution_count": 46,
   "id": "960ff11d",
   "metadata": {},
   "outputs": [],
   "source": [
    "dataset.drop(columns = [\"country_name\", \"search_type\"], inplace=True, axis=1)"
   ]
  },
  {
   "cell_type": "code",
   "execution_count": 47,
   "id": "d5785d20",
   "metadata": {},
   "outputs": [
    {
     "data": {
      "text/plain": [
       "<AxesSubplot:>"
      ]
     },
     "execution_count": 47,
     "metadata": {},
     "output_type": "execute_result"
    },
    {
     "data": {
      "image/png": "[encoded data removed]",
      "text/plain": [
       "<Figure size 1800x720 with 2 Axes>"
      ]
     },
     "metadata": {},
     "output_type": "display_data"
    }
   ],
   "source": [
    "# Matrix plots allow you to plot data as color-encoded matrices \n",
    "# and can also be used to indicate clusters within the data\n",
    "msno.matrix(dataset)"
   ]
  },
  {
   "cell_type": "markdown",
   "id": "d66ff698",
   "metadata": {},
   "source": [
    "We can see that if there are empty value it is consistent in that row so it will be sensible removing rows containing null values"
   ]
  },
  {
   "cell_type": "code",
   "execution_count": 48,
   "id": "40a0386a",
   "metadata": {},
   "outputs": [
    {
     "data": {
      "text/plain": [
       "<AxesSubplot:>"
      ]
     },
     "execution_count": 48,
     "metadata": {},
     "output_type": "execute_result"
    },
    {
     "data": {
      "image/png": "[encoded data removed]",
      "text/plain": [
       "<Figure size 1440x864 with 2 Axes>"
      ]
     },
     "metadata": {},
     "output_type": "display_data"
    }
   ],
   "source": [
    "# The heatmap is used to identify correlations of the nullity between each of the different columns.\n",
    "# Nullity correlation ranges from -1 (if one variable appears the other definitely does not) \n",
    "# to 0 (variables appearing or not appearing have no effect on one another) \n",
    "# to 1 (if one variable appears the other definitely also does).\n",
    "# <1 or >-1 have a correlation that is close to being exactingly negative or positive\n",
    "msno.heatmap(dataset)"
   ]
  },
  {
   "cell_type": "markdown",
   "id": "f34a713e",
   "metadata": {},
   "source": [
    "As you can see in the above plot theres a strong correlation between the missing value so even the driver_age is very close to 1 so I think it safe to remove rows where null values are found in them"
   ]
  },
  {
   "cell_type": "code",
   "execution_count": 49,
   "id": "09b759e2",
   "metadata": {},
   "outputs": [
    {
     "data": {
      "text/html": [
       "<div>\n",
       "<style scoped>\n",
       "    .dataframe tbody tr th:only-of-type {\n",
       "        vertical-align: middle;\n",
       "    }\n",
       "\n",
       "    .dataframe tbody tr th {\n",
       "        vertical-align: top;\n",
       "    }\n",
       "\n",
       "    .dataframe thead th {\n",
       "        text-align: right;\n",
       "    }\n",
       "</style>\n",
       "<table border=\"1\" class=\"dataframe\">\n",
       "  <thead>\n",
       "    <tr style=\"text-align: right;\">\n",
       "      <th></th>\n",
       "      <th>stop_date</th>\n",
       "      <th>stop_time</th>\n",
       "      <th>driver_gender</th>\n",
       "      <th>driver_age_raw</th>\n",
       "      <th>driver_age</th>\n",
       "      <th>driver_race</th>\n",
       "      <th>violation_raw</th>\n",
       "      <th>violation</th>\n",
       "      <th>search_conducted</th>\n",
       "      <th>stop_outcome</th>\n",
       "      <th>is_arrested</th>\n",
       "      <th>stop_duration</th>\n",
       "      <th>drugs_related_stop</th>\n",
       "    </tr>\n",
       "  </thead>\n",
       "  <tbody>\n",
       "    <tr>\n",
       "      <th>0</th>\n",
       "      <td>1/2/2005</td>\n",
       "      <td>1:55</td>\n",
       "      <td>M</td>\n",
       "      <td>1985.0</td>\n",
       "      <td>20.0</td>\n",
       "      <td>White</td>\n",
       "      <td>Speeding</td>\n",
       "      <td>Speeding</td>\n",
       "      <td>False</td>\n",
       "      <td>Citation</td>\n",
       "      <td>False</td>\n",
       "      <td>0-15 Min</td>\n",
       "      <td>False</td>\n",
       "    </tr>\n",
       "    <tr>\n",
       "      <th>1</th>\n",
       "      <td>1/18/2005</td>\n",
       "      <td>8:15</td>\n",
       "      <td>M</td>\n",
       "      <td>1965.0</td>\n",
       "      <td>40.0</td>\n",
       "      <td>White</td>\n",
       "      <td>Speeding</td>\n",
       "      <td>Speeding</td>\n",
       "      <td>False</td>\n",
       "      <td>Citation</td>\n",
       "      <td>False</td>\n",
       "      <td>0-15 Min</td>\n",
       "      <td>False</td>\n",
       "    </tr>\n",
       "    <tr>\n",
       "      <th>2</th>\n",
       "      <td>1/23/2005</td>\n",
       "      <td>23:15</td>\n",
       "      <td>M</td>\n",
       "      <td>1972.0</td>\n",
       "      <td>33.0</td>\n",
       "      <td>White</td>\n",
       "      <td>Speeding</td>\n",
       "      <td>Speeding</td>\n",
       "      <td>False</td>\n",
       "      <td>Citation</td>\n",
       "      <td>False</td>\n",
       "      <td>0-15 Min</td>\n",
       "      <td>False</td>\n",
       "    </tr>\n",
       "    <tr>\n",
       "      <th>3</th>\n",
       "      <td>2/20/2005</td>\n",
       "      <td>17:15</td>\n",
       "      <td>M</td>\n",
       "      <td>1986.0</td>\n",
       "      <td>19.0</td>\n",
       "      <td>White</td>\n",
       "      <td>Call for Service</td>\n",
       "      <td>Other</td>\n",
       "      <td>False</td>\n",
       "      <td>Arrest Driver</td>\n",
       "      <td>True</td>\n",
       "      <td>16-30 Min</td>\n",
       "      <td>False</td>\n",
       "    </tr>\n",
       "    <tr>\n",
       "      <th>4</th>\n",
       "      <td>3/14/2005</td>\n",
       "      <td>10:00</td>\n",
       "      <td>F</td>\n",
       "      <td>1984.0</td>\n",
       "      <td>21.0</td>\n",
       "      <td>White</td>\n",
       "      <td>Speeding</td>\n",
       "      <td>Speeding</td>\n",
       "      <td>False</td>\n",
       "      <td>Citation</td>\n",
       "      <td>False</td>\n",
       "      <td>0-15 Min</td>\n",
       "      <td>False</td>\n",
       "    </tr>\n",
       "    <tr>\n",
       "      <th>...</th>\n",
       "      <td>...</td>\n",
       "      <td>...</td>\n",
       "      <td>...</td>\n",
       "      <td>...</td>\n",
       "      <td>...</td>\n",
       "      <td>...</td>\n",
       "      <td>...</td>\n",
       "      <td>...</td>\n",
       "      <td>...</td>\n",
       "      <td>...</td>\n",
       "      <td>...</td>\n",
       "      <td>...</td>\n",
       "      <td>...</td>\n",
       "    </tr>\n",
       "    <tr>\n",
       "      <th>52956</th>\n",
       "      <td>10/4/2011</td>\n",
       "      <td>22:22</td>\n",
       "      <td>M</td>\n",
       "      <td>1979.0</td>\n",
       "      <td>32.0</td>\n",
       "      <td>White</td>\n",
       "      <td>Speeding</td>\n",
       "      <td>Speeding</td>\n",
       "      <td>False</td>\n",
       "      <td>Arrest Driver</td>\n",
       "      <td>True</td>\n",
       "      <td>0-15 Min</td>\n",
       "      <td>False</td>\n",
       "    </tr>\n",
       "    <tr>\n",
       "      <th>52958</th>\n",
       "      <td>10/4/2011</td>\n",
       "      <td>22:36</td>\n",
       "      <td>F</td>\n",
       "      <td>1967.0</td>\n",
       "      <td>44.0</td>\n",
       "      <td>Hispanic</td>\n",
       "      <td>Speeding</td>\n",
       "      <td>Speeding</td>\n",
       "      <td>False</td>\n",
       "      <td>Citation</td>\n",
       "      <td>False</td>\n",
       "      <td>0-15 Min</td>\n",
       "      <td>False</td>\n",
       "    </tr>\n",
       "    <tr>\n",
       "      <th>52959</th>\n",
       "      <td>10/4/2011</td>\n",
       "      <td>23:25</td>\n",
       "      <td>F</td>\n",
       "      <td>1991.0</td>\n",
       "      <td>20.0</td>\n",
       "      <td>Black</td>\n",
       "      <td>Speeding</td>\n",
       "      <td>Speeding</td>\n",
       "      <td>False</td>\n",
       "      <td>Citation</td>\n",
       "      <td>False</td>\n",
       "      <td>0-15 Min</td>\n",
       "      <td>False</td>\n",
       "    </tr>\n",
       "    <tr>\n",
       "      <th>52962</th>\n",
       "      <td>10/5/2011</td>\n",
       "      <td>6:43</td>\n",
       "      <td>M</td>\n",
       "      <td>1986.0</td>\n",
       "      <td>25.0</td>\n",
       "      <td>White</td>\n",
       "      <td>Speeding</td>\n",
       "      <td>Speeding</td>\n",
       "      <td>False</td>\n",
       "      <td>Citation</td>\n",
       "      <td>False</td>\n",
       "      <td>0-15 Min</td>\n",
       "      <td>False</td>\n",
       "    </tr>\n",
       "    <tr>\n",
       "      <th>52964</th>\n",
       "      <td>10/5/2011</td>\n",
       "      <td>7:19</td>\n",
       "      <td>F</td>\n",
       "      <td>1986.0</td>\n",
       "      <td>25.0</td>\n",
       "      <td>White</td>\n",
       "      <td>Speeding</td>\n",
       "      <td>Speeding</td>\n",
       "      <td>False</td>\n",
       "      <td>Citation</td>\n",
       "      <td>False</td>\n",
       "      <td>0-15 Min</td>\n",
       "      <td>False</td>\n",
       "    </tr>\n",
       "  </tbody>\n",
       "</table>\n",
       "<p>49580 rows × 13 columns</p>\n",
       "</div>"
      ],
      "text/plain": [
       "       stop_date stop_time driver_gender  driver_age_raw  driver_age  \\\n",
       "0       1/2/2005      1:55             M          1985.0        20.0   \n",
       "1      1/18/2005      8:15             M          1965.0        40.0   \n",
       "2      1/23/2005     23:15             M          1972.0        33.0   \n",
       "3      2/20/2005     17:15             M          1986.0        19.0   \n",
       "4      3/14/2005     10:00             F          1984.0        21.0   \n",
       "...          ...       ...           ...             ...         ...   \n",
       "52956  10/4/2011     22:22             M          1979.0        32.0   \n",
       "52958  10/4/2011     22:36             F          1967.0        44.0   \n",
       "52959  10/4/2011     23:25             F          1991.0        20.0   \n",
       "52962  10/5/2011      6:43             M          1986.0        25.0   \n",
       "52964  10/5/2011      7:19             F          1986.0        25.0   \n",
       "\n",
       "      driver_race     violation_raw violation search_conducted   stop_outcome  \\\n",
       "0           White          Speeding  Speeding            False       Citation   \n",
       "1           White          Speeding  Speeding            False       Citation   \n",
       "2           White          Speeding  Speeding            False       Citation   \n",
       "3           White  Call for Service     Other            False  Arrest Driver   \n",
       "4           White          Speeding  Speeding            False       Citation   \n",
       "...           ...               ...       ...              ...            ...   \n",
       "52956       White          Speeding  Speeding            False  Arrest Driver   \n",
       "52958    Hispanic          Speeding  Speeding            False       Citation   \n",
       "52959       Black          Speeding  Speeding            False       Citation   \n",
       "52962       White          Speeding  Speeding            False       Citation   \n",
       "52964       White          Speeding  Speeding            False       Citation   \n",
       "\n",
       "      is_arrested stop_duration drugs_related_stop  \n",
       "0           False      0-15 Min              False  \n",
       "1           False      0-15 Min              False  \n",
       "2           False      0-15 Min              False  \n",
       "3            True     16-30 Min              False  \n",
       "4           False      0-15 Min              False  \n",
       "...           ...           ...                ...  \n",
       "52956        True      0-15 Min              False  \n",
       "52958       False      0-15 Min              False  \n",
       "52959       False      0-15 Min              False  \n",
       "52962       False      0-15 Min              False  \n",
       "52964       False      0-15 Min              False  \n",
       "\n",
       "[49580 rows x 13 columns]"
      ]
     },
     "execution_count": 49,
     "metadata": {},
     "output_type": "execute_result"
    }
   ],
   "source": [
    "dataset.dropna(subset = [\"driver_gender\"], inplace=True)\n",
    "dataset"
   ]
  },
  {
   "cell_type": "markdown",
   "id": "5f603025",
   "metadata": {},
   "source": [
    "Removing drive_age_raw as I see no need for it as I only need the age of the violator for when the violation happened and I have that information in driver_age column"
   ]
  },
  {
   "cell_type": "code",
   "execution_count": 50,
   "id": "3eaf19f5",
   "metadata": {},
   "outputs": [
    {
     "data": {
      "text/html": [
       "<div>\n",
       "<style scoped>\n",
       "    .dataframe tbody tr th:only-of-type {\n",
       "        vertical-align: middle;\n",
       "    }\n",
       "\n",
       "    .dataframe tbody tr th {\n",
       "        vertical-align: top;\n",
       "    }\n",
       "\n",
       "    .dataframe thead th {\n",
       "        text-align: right;\n",
       "    }\n",
       "</style>\n",
       "<table border=\"1\" class=\"dataframe\">\n",
       "  <thead>\n",
       "    <tr style=\"text-align: right;\">\n",
       "      <th></th>\n",
       "      <th>stop_date</th>\n",
       "      <th>stop_time</th>\n",
       "      <th>driver_gender</th>\n",
       "      <th>driver_age</th>\n",
       "      <th>driver_race</th>\n",
       "      <th>violation_raw</th>\n",
       "      <th>violation</th>\n",
       "      <th>search_conducted</th>\n",
       "      <th>stop_outcome</th>\n",
       "      <th>is_arrested</th>\n",
       "      <th>stop_duration</th>\n",
       "      <th>drugs_related_stop</th>\n",
       "    </tr>\n",
       "  </thead>\n",
       "  <tbody>\n",
       "    <tr>\n",
       "      <th>0</th>\n",
       "      <td>1/2/2005</td>\n",
       "      <td>1:55</td>\n",
       "      <td>M</td>\n",
       "      <td>20.0</td>\n",
       "      <td>White</td>\n",
       "      <td>Speeding</td>\n",
       "      <td>Speeding</td>\n",
       "      <td>False</td>\n",
       "      <td>Citation</td>\n",
       "      <td>False</td>\n",
       "      <td>0-15 Min</td>\n",
       "      <td>False</td>\n",
       "    </tr>\n",
       "    <tr>\n",
       "      <th>1</th>\n",
       "      <td>1/18/2005</td>\n",
       "      <td>8:15</td>\n",
       "      <td>M</td>\n",
       "      <td>40.0</td>\n",
       "      <td>White</td>\n",
       "      <td>Speeding</td>\n",
       "      <td>Speeding</td>\n",
       "      <td>False</td>\n",
       "      <td>Citation</td>\n",
       "      <td>False</td>\n",
       "      <td>0-15 Min</td>\n",
       "      <td>False</td>\n",
       "    </tr>\n",
       "    <tr>\n",
       "      <th>2</th>\n",
       "      <td>1/23/2005</td>\n",
       "      <td>23:15</td>\n",
       "      <td>M</td>\n",
       "      <td>33.0</td>\n",
       "      <td>White</td>\n",
       "      <td>Speeding</td>\n",
       "      <td>Speeding</td>\n",
       "      <td>False</td>\n",
       "      <td>Citation</td>\n",
       "      <td>False</td>\n",
       "      <td>0-15 Min</td>\n",
       "      <td>False</td>\n",
       "    </tr>\n",
       "    <tr>\n",
       "      <th>3</th>\n",
       "      <td>2/20/2005</td>\n",
       "      <td>17:15</td>\n",
       "      <td>M</td>\n",
       "      <td>19.0</td>\n",
       "      <td>White</td>\n",
       "      <td>Call for Service</td>\n",
       "      <td>Other</td>\n",
       "      <td>False</td>\n",
       "      <td>Arrest Driver</td>\n",
       "      <td>True</td>\n",
       "      <td>16-30 Min</td>\n",
       "      <td>False</td>\n",
       "    </tr>\n",
       "    <tr>\n",
       "      <th>4</th>\n",
       "      <td>3/14/2005</td>\n",
       "      <td>10:00</td>\n",
       "      <td>F</td>\n",
       "      <td>21.0</td>\n",
       "      <td>White</td>\n",
       "      <td>Speeding</td>\n",
       "      <td>Speeding</td>\n",
       "      <td>False</td>\n",
       "      <td>Citation</td>\n",
       "      <td>False</td>\n",
       "      <td>0-15 Min</td>\n",
       "      <td>False</td>\n",
       "    </tr>\n",
       "  </tbody>\n",
       "</table>\n",
       "</div>"
      ],
      "text/plain": [
       "   stop_date stop_time driver_gender  driver_age driver_race  \\\n",
       "0   1/2/2005      1:55             M        20.0       White   \n",
       "1  1/18/2005      8:15             M        40.0       White   \n",
       "2  1/23/2005     23:15             M        33.0       White   \n",
       "3  2/20/2005     17:15             M        19.0       White   \n",
       "4  3/14/2005     10:00             F        21.0       White   \n",
       "\n",
       "      violation_raw violation search_conducted   stop_outcome is_arrested  \\\n",
       "0          Speeding  Speeding            False       Citation       False   \n",
       "1          Speeding  Speeding            False       Citation       False   \n",
       "2          Speeding  Speeding            False       Citation       False   \n",
       "3  Call for Service     Other            False  Arrest Driver        True   \n",
       "4          Speeding  Speeding            False       Citation       False   \n",
       "\n",
       "  stop_duration drugs_related_stop  \n",
       "0      0-15 Min              False  \n",
       "1      0-15 Min              False  \n",
       "2      0-15 Min              False  \n",
       "3     16-30 Min              False  \n",
       "4      0-15 Min              False  "
      ]
     },
     "execution_count": 50,
     "metadata": {},
     "output_type": "execute_result"
    }
   ],
   "source": [
    "dataset.drop(\"driver_age_raw\", inplace=True, axis=1) \n",
    "dataset.head()"
   ]
  },
  {
   "cell_type": "code",
   "execution_count": 51,
   "id": "37f7a7b1",
   "metadata": {},
   "outputs": [
    {
     "data": {
      "text/plain": [
       "stop_date               0\n",
       "stop_time               0\n",
       "driver_gender           0\n",
       "driver_age            240\n",
       "driver_race             0\n",
       "violation_raw           0\n",
       "violation               0\n",
       "search_conducted        0\n",
       "stop_outcome            0\n",
       "is_arrested             0\n",
       "stop_duration           0\n",
       "drugs_related_stop      0\n",
       "dtype: int64"
      ]
     },
     "execution_count": 51,
     "metadata": {},
     "output_type": "execute_result"
    }
   ],
   "source": [
    "# checking for missing values\n",
    "dataset.isnull().sum()"
   ]
  },
  {
   "cell_type": "code",
   "execution_count": 52,
   "id": "74571170",
   "metadata": {},
   "outputs": [
    {
     "data": {
      "text/plain": [
       "<AxesSubplot:>"
      ]
     },
     "execution_count": 52,
     "metadata": {},
     "output_type": "execute_result"
    },
    {
     "data": {
      "image/png": "[encoded data removed]",
      "text/plain": [
       "<Figure size 1728x720 with 3 Axes>"
      ]
     },
     "metadata": {},
     "output_type": "display_data"
    }
   ],
   "source": [
    "# rechecking using bar plot\n",
    "msno.bar(dataset)"
   ]
  },
  {
   "cell_type": "markdown",
   "id": "bcd0da4d",
   "metadata": {},
   "source": [
    "The bar and the list both shows that there is still 240 missing value in the driver age column.\n",
    "I found this reddit article while finding ways to deal with missing age and decided to use the mean of the group with same charateristic.\n",
    "https://stackoverflow.com/questions/61310486/filling-missing-age-in-titanic-dataset  \n",
    "I chose characteristic that would make sense when talking about the age like the gender & race. Maybe the race could be excluded as this dataset could be skewed towards a particular race but I decided to keep it in."
   ]
  },
  {
   "cell_type": "code",
   "execution_count": 53,
   "id": "64664e8a",
   "metadata": {},
   "outputs": [
    {
     "data": {
      "text/plain": [
       "<AxesSubplot:>"
      ]
     },
     "execution_count": 53,
     "metadata": {},
     "output_type": "execute_result"
    },
    {
     "data": {
      "image/png": "[encoded data removed]",
      "text/plain": [
       "<Figure size 1800x720 with 2 Axes>"
      ]
     },
     "metadata": {},
     "output_type": "display_data"
    }
   ],
   "source": [
    "l_col = [\"driver_gender\", \"driver_race\"]\n",
    "dataset[\"driver_age\"] = dataset[\"driver_age\"].fillna(dataset.groupby(l_col)[\"driver_age\"].transform(\"mean\"))\n",
    "msno.matrix(dataset)"
   ]
  },
  {
   "cell_type": "markdown",
   "id": "2467a07b",
   "metadata": {},
   "source": [
    "I think the dataset is now perfectly ready to be analyzed with a few more tweaks needed"
   ]
  },
  {
   "cell_type": "code",
   "execution_count": 54,
   "id": "8afec141",
   "metadata": {},
   "outputs": [
    {
     "name": "stdout",
     "output_type": "stream",
     "text": [
      "<class 'pandas.core.frame.DataFrame'>\n",
      "Int64Index: 49580 entries, 0 to 52964\n",
      "Data columns (total 12 columns):\n",
      " #   Column              Non-Null Count  Dtype  \n",
      "---  ------              --------------  -----  \n",
      " 0   stop_date           49580 non-null  object \n",
      " 1   stop_time           49580 non-null  object \n",
      " 2   driver_gender       49580 non-null  object \n",
      " 3   driver_age          49580 non-null  float64\n",
      " 4   driver_race         49580 non-null  object \n",
      " 5   violation_raw       49580 non-null  object \n",
      " 6   violation           49580 non-null  object \n",
      " 7   search_conducted    49580 non-null  object \n",
      " 8   stop_outcome        49580 non-null  object \n",
      " 9   is_arrested         49580 non-null  object \n",
      " 10  stop_duration       49580 non-null  object \n",
      " 11  drugs_related_stop  49580 non-null  object \n",
      "dtypes: float64(1), object(11)\n",
      "memory usage: 4.9+ MB\n"
     ]
    }
   ],
   "source": [
    "# copying the modified dataframe to a new variable\n",
    "cleaned_data = dataset.copy()\n",
    "cleaned_data.info()"
   ]
  },
  {
   "cell_type": "markdown",
   "id": "65c4ebc6",
   "metadata": {},
   "source": [
    "I would like to change some of the column name i.e the gender, age and race column name as I see it will not affect the analysis much if I shortened it and it will be much easier for the eyes to read."
   ]
  },
  {
   "cell_type": "code",
   "execution_count": 55,
   "id": "66dfad41",
   "metadata": {},
   "outputs": [],
   "source": [
    "cleaned_data.rename(columns={'driver_gender': 'gender', \n",
    "                             'driver_age': 'age', \n",
    "                             'driver_race': 'race'}, inplace = True)"
   ]
  },
  {
   "cell_type": "markdown",
   "id": "8db91fe3",
   "metadata": {},
   "source": [
    "I would further like to change the datatype of certain column for more appropriate one  \n",
    "Help used for this part  \n",
    " - https://stackoverflow.com/questions/17134716/convert-dataframe-column-type-from-string-to-datetime\n",
    " - format: '%d/%m/%y %H:%M:%S\n",
    " - https://pandas.pydata.org/docs/getting_started/intro_tutorials/09_timeseries.html "
   ]
  },
  {
   "cell_type": "code",
   "execution_count": 56,
   "id": "3721a01e",
   "metadata": {},
   "outputs": [
    {
     "data": {
      "text/html": [
       "<div>\n",
       "<style scoped>\n",
       "    .dataframe tbody tr th:only-of-type {\n",
       "        vertical-align: middle;\n",
       "    }\n",
       "\n",
       "    .dataframe tbody tr th {\n",
       "        vertical-align: top;\n",
       "    }\n",
       "\n",
       "    .dataframe thead th {\n",
       "        text-align: right;\n",
       "    }\n",
       "</style>\n",
       "<table border=\"1\" class=\"dataframe\">\n",
       "  <thead>\n",
       "    <tr style=\"text-align: right;\">\n",
       "      <th></th>\n",
       "      <th>stop_date</th>\n",
       "      <th>stop_time</th>\n",
       "      <th>gender</th>\n",
       "      <th>age</th>\n",
       "      <th>race</th>\n",
       "      <th>violation_raw</th>\n",
       "      <th>violation</th>\n",
       "      <th>search_conducted</th>\n",
       "      <th>stop_outcome</th>\n",
       "      <th>is_arrested</th>\n",
       "      <th>stop_duration</th>\n",
       "      <th>drugs_related_stop</th>\n",
       "      <th>stop_hour</th>\n",
       "    </tr>\n",
       "  </thead>\n",
       "  <tbody>\n",
       "    <tr>\n",
       "      <th>0</th>\n",
       "      <td>2005-01-02</td>\n",
       "      <td>1:55</td>\n",
       "      <td>M</td>\n",
       "      <td>20.0</td>\n",
       "      <td>White</td>\n",
       "      <td>Speeding</td>\n",
       "      <td>Speeding</td>\n",
       "      <td>False</td>\n",
       "      <td>Citation</td>\n",
       "      <td>False</td>\n",
       "      <td>0-15 Min</td>\n",
       "      <td>False</td>\n",
       "      <td>1</td>\n",
       "    </tr>\n",
       "    <tr>\n",
       "      <th>1</th>\n",
       "      <td>2005-01-18</td>\n",
       "      <td>8:15</td>\n",
       "      <td>M</td>\n",
       "      <td>40.0</td>\n",
       "      <td>White</td>\n",
       "      <td>Speeding</td>\n",
       "      <td>Speeding</td>\n",
       "      <td>False</td>\n",
       "      <td>Citation</td>\n",
       "      <td>False</td>\n",
       "      <td>0-15 Min</td>\n",
       "      <td>False</td>\n",
       "      <td>8</td>\n",
       "    </tr>\n",
       "    <tr>\n",
       "      <th>2</th>\n",
       "      <td>2005-01-23</td>\n",
       "      <td>23:15</td>\n",
       "      <td>M</td>\n",
       "      <td>33.0</td>\n",
       "      <td>White</td>\n",
       "      <td>Speeding</td>\n",
       "      <td>Speeding</td>\n",
       "      <td>False</td>\n",
       "      <td>Citation</td>\n",
       "      <td>False</td>\n",
       "      <td>0-15 Min</td>\n",
       "      <td>False</td>\n",
       "      <td>23</td>\n",
       "    </tr>\n",
       "    <tr>\n",
       "      <th>3</th>\n",
       "      <td>2005-02-20</td>\n",
       "      <td>17:15</td>\n",
       "      <td>M</td>\n",
       "      <td>19.0</td>\n",
       "      <td>White</td>\n",
       "      <td>Call for Service</td>\n",
       "      <td>Other</td>\n",
       "      <td>False</td>\n",
       "      <td>Arrest Driver</td>\n",
       "      <td>True</td>\n",
       "      <td>16-30 Min</td>\n",
       "      <td>False</td>\n",
       "      <td>17</td>\n",
       "    </tr>\n",
       "    <tr>\n",
       "      <th>4</th>\n",
       "      <td>2005-03-14</td>\n",
       "      <td>10:00</td>\n",
       "      <td>F</td>\n",
       "      <td>21.0</td>\n",
       "      <td>White</td>\n",
       "      <td>Speeding</td>\n",
       "      <td>Speeding</td>\n",
       "      <td>False</td>\n",
       "      <td>Citation</td>\n",
       "      <td>False</td>\n",
       "      <td>0-15 Min</td>\n",
       "      <td>False</td>\n",
       "      <td>10</td>\n",
       "    </tr>\n",
       "  </tbody>\n",
       "</table>\n",
       "</div>"
      ],
      "text/plain": [
       "   stop_date stop_time gender   age   race     violation_raw violation  \\\n",
       "0 2005-01-02      1:55      M  20.0  White          Speeding  Speeding   \n",
       "1 2005-01-18      8:15      M  40.0  White          Speeding  Speeding   \n",
       "2 2005-01-23     23:15      M  33.0  White          Speeding  Speeding   \n",
       "3 2005-02-20     17:15      M  19.0  White  Call for Service     Other   \n",
       "4 2005-03-14     10:00      F  21.0  White          Speeding  Speeding   \n",
       "\n",
       "  search_conducted   stop_outcome is_arrested stop_duration  \\\n",
       "0            False       Citation       False      0-15 Min   \n",
       "1            False       Citation       False      0-15 Min   \n",
       "2            False       Citation       False      0-15 Min   \n",
       "3            False  Arrest Driver        True     16-30 Min   \n",
       "4            False       Citation       False      0-15 Min   \n",
       "\n",
       "  drugs_related_stop  stop_hour  \n",
       "0              False          1  \n",
       "1              False          8  \n",
       "2              False         23  \n",
       "3              False         17  \n",
       "4              False         10  "
      ]
     },
     "execution_count": 56,
     "metadata": {},
     "output_type": "execute_result"
    }
   ],
   "source": [
    "# convert column to datetime pandas\n",
    "cleaned_data['stop_date'] = pd.to_datetime(cleaned_data['stop_date'])\n",
    "# extract the hour from the stop_time for future comparison\n",
    "cleaned_data['stop_hour'] = pd.to_datetime(cleaned_data['stop_time'], format='%H:%M').dt.hour\n",
    "cleaned_data.head()"
   ]
  },
  {
   "cell_type": "markdown",
   "id": "8f19c04a",
   "metadata": {},
   "source": [
    "search_conducted, is arrested has boolean True/False values, but for further calculations I need 1/0 representation. I found this at the end so doing it up here to make it look clean.\n",
    "https://stackoverflow.com/questions/17383094/how-can-i-map-true-false-to-1-0-in-a-pandas-dataframe"
   ]
  },
  {
   "cell_type": "code",
   "execution_count": 57,
   "id": "79e4cb9d",
   "metadata": {},
   "outputs": [
    {
     "data": {
      "text/html": [
       "<div>\n",
       "<style scoped>\n",
       "    .dataframe tbody tr th:only-of-type {\n",
       "        vertical-align: middle;\n",
       "    }\n",
       "\n",
       "    .dataframe tbody tr th {\n",
       "        vertical-align: top;\n",
       "    }\n",
       "\n",
       "    .dataframe thead th {\n",
       "        text-align: right;\n",
       "    }\n",
       "</style>\n",
       "<table border=\"1\" class=\"dataframe\">\n",
       "  <thead>\n",
       "    <tr style=\"text-align: right;\">\n",
       "      <th></th>\n",
       "      <th>stop_date</th>\n",
       "      <th>stop_time</th>\n",
       "      <th>gender</th>\n",
       "      <th>age</th>\n",
       "      <th>race</th>\n",
       "      <th>violation_raw</th>\n",
       "      <th>violation</th>\n",
       "      <th>search_conducted</th>\n",
       "      <th>stop_outcome</th>\n",
       "      <th>is_arrested</th>\n",
       "      <th>stop_duration</th>\n",
       "      <th>drugs_related_stop</th>\n",
       "      <th>stop_hour</th>\n",
       "    </tr>\n",
       "  </thead>\n",
       "  <tbody>\n",
       "    <tr>\n",
       "      <th>0</th>\n",
       "      <td>2005-01-02</td>\n",
       "      <td>1:55</td>\n",
       "      <td>M</td>\n",
       "      <td>20.0</td>\n",
       "      <td>White</td>\n",
       "      <td>Speeding</td>\n",
       "      <td>Speeding</td>\n",
       "      <td>0</td>\n",
       "      <td>Citation</td>\n",
       "      <td>False</td>\n",
       "      <td>0-15 Min</td>\n",
       "      <td>False</td>\n",
       "      <td>1</td>\n",
       "    </tr>\n",
       "    <tr>\n",
       "      <th>1</th>\n",
       "      <td>2005-01-18</td>\n",
       "      <td>8:15</td>\n",
       "      <td>M</td>\n",
       "      <td>40.0</td>\n",
       "      <td>White</td>\n",
       "      <td>Speeding</td>\n",
       "      <td>Speeding</td>\n",
       "      <td>0</td>\n",
       "      <td>Citation</td>\n",
       "      <td>False</td>\n",
       "      <td>0-15 Min</td>\n",
       "      <td>False</td>\n",
       "      <td>8</td>\n",
       "    </tr>\n",
       "    <tr>\n",
       "      <th>2</th>\n",
       "      <td>2005-01-23</td>\n",
       "      <td>23:15</td>\n",
       "      <td>M</td>\n",
       "      <td>33.0</td>\n",
       "      <td>White</td>\n",
       "      <td>Speeding</td>\n",
       "      <td>Speeding</td>\n",
       "      <td>0</td>\n",
       "      <td>Citation</td>\n",
       "      <td>False</td>\n",
       "      <td>0-15 Min</td>\n",
       "      <td>False</td>\n",
       "      <td>23</td>\n",
       "    </tr>\n",
       "    <tr>\n",
       "      <th>3</th>\n",
       "      <td>2005-02-20</td>\n",
       "      <td>17:15</td>\n",
       "      <td>M</td>\n",
       "      <td>19.0</td>\n",
       "      <td>White</td>\n",
       "      <td>Call for Service</td>\n",
       "      <td>Other</td>\n",
       "      <td>0</td>\n",
       "      <td>Arrest Driver</td>\n",
       "      <td>True</td>\n",
       "      <td>16-30 Min</td>\n",
       "      <td>False</td>\n",
       "      <td>17</td>\n",
       "    </tr>\n",
       "    <tr>\n",
       "      <th>4</th>\n",
       "      <td>2005-03-14</td>\n",
       "      <td>10:00</td>\n",
       "      <td>F</td>\n",
       "      <td>21.0</td>\n",
       "      <td>White</td>\n",
       "      <td>Speeding</td>\n",
       "      <td>Speeding</td>\n",
       "      <td>0</td>\n",
       "      <td>Citation</td>\n",
       "      <td>False</td>\n",
       "      <td>0-15 Min</td>\n",
       "      <td>False</td>\n",
       "      <td>10</td>\n",
       "    </tr>\n",
       "  </tbody>\n",
       "</table>\n",
       "</div>"
      ],
      "text/plain": [
       "   stop_date stop_time gender   age   race     violation_raw violation  \\\n",
       "0 2005-01-02      1:55      M  20.0  White          Speeding  Speeding   \n",
       "1 2005-01-18      8:15      M  40.0  White          Speeding  Speeding   \n",
       "2 2005-01-23     23:15      M  33.0  White          Speeding  Speeding   \n",
       "3 2005-02-20     17:15      M  19.0  White  Call for Service     Other   \n",
       "4 2005-03-14     10:00      F  21.0  White          Speeding  Speeding   \n",
       "\n",
       "   search_conducted   stop_outcome is_arrested stop_duration  \\\n",
       "0                 0       Citation       False      0-15 Min   \n",
       "1                 0       Citation       False      0-15 Min   \n",
       "2                 0       Citation       False      0-15 Min   \n",
       "3                 0  Arrest Driver        True     16-30 Min   \n",
       "4                 0       Citation       False      0-15 Min   \n",
       "\n",
       "  drugs_related_stop  stop_hour  \n",
       "0              False          1  \n",
       "1              False          8  \n",
       "2              False         23  \n",
       "3              False         17  \n",
       "4              False         10  "
      ]
     },
     "execution_count": 57,
     "metadata": {},
     "output_type": "execute_result"
    }
   ],
   "source": [
    "cleaned_data[\"search_conducted\"] = cleaned_data[\"search_conducted\"].astype(int)\n",
    "cleaned_data.head()"
   ]
  },
  {
   "cell_type": "code",
   "execution_count": 58,
   "id": "d0700e46",
   "metadata": {},
   "outputs": [
    {
     "data": {
      "text/html": [
       "<div>\n",
       "<style scoped>\n",
       "    .dataframe tbody tr th:only-of-type {\n",
       "        vertical-align: middle;\n",
       "    }\n",
       "\n",
       "    .dataframe tbody tr th {\n",
       "        vertical-align: top;\n",
       "    }\n",
       "\n",
       "    .dataframe thead th {\n",
       "        text-align: right;\n",
       "    }\n",
       "</style>\n",
       "<table border=\"1\" class=\"dataframe\">\n",
       "  <thead>\n",
       "    <tr style=\"text-align: right;\">\n",
       "      <th></th>\n",
       "      <th>stop_date</th>\n",
       "      <th>stop_time</th>\n",
       "      <th>gender</th>\n",
       "      <th>age</th>\n",
       "      <th>race</th>\n",
       "      <th>violation_raw</th>\n",
       "      <th>violation</th>\n",
       "      <th>search_conducted</th>\n",
       "      <th>stop_outcome</th>\n",
       "      <th>is_arrested</th>\n",
       "      <th>stop_duration</th>\n",
       "      <th>drugs_related_stop</th>\n",
       "      <th>stop_hour</th>\n",
       "    </tr>\n",
       "  </thead>\n",
       "  <tbody>\n",
       "    <tr>\n",
       "      <th>0</th>\n",
       "      <td>2005-01-02</td>\n",
       "      <td>1:55</td>\n",
       "      <td>M</td>\n",
       "      <td>20.0</td>\n",
       "      <td>White</td>\n",
       "      <td>Speeding</td>\n",
       "      <td>Speeding</td>\n",
       "      <td>0</td>\n",
       "      <td>Citation</td>\n",
       "      <td>0</td>\n",
       "      <td>0-15 Min</td>\n",
       "      <td>False</td>\n",
       "      <td>1</td>\n",
       "    </tr>\n",
       "    <tr>\n",
       "      <th>1</th>\n",
       "      <td>2005-01-18</td>\n",
       "      <td>8:15</td>\n",
       "      <td>M</td>\n",
       "      <td>40.0</td>\n",
       "      <td>White</td>\n",
       "      <td>Speeding</td>\n",
       "      <td>Speeding</td>\n",
       "      <td>0</td>\n",
       "      <td>Citation</td>\n",
       "      <td>0</td>\n",
       "      <td>0-15 Min</td>\n",
       "      <td>False</td>\n",
       "      <td>8</td>\n",
       "    </tr>\n",
       "    <tr>\n",
       "      <th>2</th>\n",
       "      <td>2005-01-23</td>\n",
       "      <td>23:15</td>\n",
       "      <td>M</td>\n",
       "      <td>33.0</td>\n",
       "      <td>White</td>\n",
       "      <td>Speeding</td>\n",
       "      <td>Speeding</td>\n",
       "      <td>0</td>\n",
       "      <td>Citation</td>\n",
       "      <td>0</td>\n",
       "      <td>0-15 Min</td>\n",
       "      <td>False</td>\n",
       "      <td>23</td>\n",
       "    </tr>\n",
       "    <tr>\n",
       "      <th>3</th>\n",
       "      <td>2005-02-20</td>\n",
       "      <td>17:15</td>\n",
       "      <td>M</td>\n",
       "      <td>19.0</td>\n",
       "      <td>White</td>\n",
       "      <td>Call for Service</td>\n",
       "      <td>Other</td>\n",
       "      <td>0</td>\n",
       "      <td>Arrest Driver</td>\n",
       "      <td>1</td>\n",
       "      <td>16-30 Min</td>\n",
       "      <td>False</td>\n",
       "      <td>17</td>\n",
       "    </tr>\n",
       "    <tr>\n",
       "      <th>4</th>\n",
       "      <td>2005-03-14</td>\n",
       "      <td>10:00</td>\n",
       "      <td>F</td>\n",
       "      <td>21.0</td>\n",
       "      <td>White</td>\n",
       "      <td>Speeding</td>\n",
       "      <td>Speeding</td>\n",
       "      <td>0</td>\n",
       "      <td>Citation</td>\n",
       "      <td>0</td>\n",
       "      <td>0-15 Min</td>\n",
       "      <td>False</td>\n",
       "      <td>10</td>\n",
       "    </tr>\n",
       "  </tbody>\n",
       "</table>\n",
       "</div>"
      ],
      "text/plain": [
       "   stop_date stop_time gender   age   race     violation_raw violation  \\\n",
       "0 2005-01-02      1:55      M  20.0  White          Speeding  Speeding   \n",
       "1 2005-01-18      8:15      M  40.0  White          Speeding  Speeding   \n",
       "2 2005-01-23     23:15      M  33.0  White          Speeding  Speeding   \n",
       "3 2005-02-20     17:15      M  19.0  White  Call for Service     Other   \n",
       "4 2005-03-14     10:00      F  21.0  White          Speeding  Speeding   \n",
       "\n",
       "   search_conducted   stop_outcome  is_arrested stop_duration  \\\n",
       "0                 0       Citation            0      0-15 Min   \n",
       "1                 0       Citation            0      0-15 Min   \n",
       "2                 0       Citation            0      0-15 Min   \n",
       "3                 0  Arrest Driver            1     16-30 Min   \n",
       "4                 0       Citation            0      0-15 Min   \n",
       "\n",
       "  drugs_related_stop  stop_hour  \n",
       "0              False          1  \n",
       "1              False          8  \n",
       "2              False         23  \n",
       "3              False         17  \n",
       "4              False         10  "
      ]
     },
     "execution_count": 58,
     "metadata": {},
     "output_type": "execute_result"
    }
   ],
   "source": [
    "cleaned_data[\"is_arrested\"] = cleaned_data[\"is_arrested\"].astype(int)\n",
    "cleaned_data.head()"
   ]
  },
  {
   "cell_type": "markdown",
   "id": "680c2888",
   "metadata": {},
   "source": [
    "Also changing the gender column value to 1 and 0 where \n",
    "1 = Female and 0 = Male"
   ]
  },
  {
   "cell_type": "code",
   "execution_count": 59,
   "id": "db233e71",
   "metadata": {},
   "outputs": [
    {
     "data": {
      "text/html": [
       "<div>\n",
       "<style scoped>\n",
       "    .dataframe tbody tr th:only-of-type {\n",
       "        vertical-align: middle;\n",
       "    }\n",
       "\n",
       "    .dataframe tbody tr th {\n",
       "        vertical-align: top;\n",
       "    }\n",
       "\n",
       "    .dataframe thead th {\n",
       "        text-align: right;\n",
       "    }\n",
       "</style>\n",
       "<table border=\"1\" class=\"dataframe\">\n",
       "  <thead>\n",
       "    <tr style=\"text-align: right;\">\n",
       "      <th></th>\n",
       "      <th>stop_date</th>\n",
       "      <th>stop_time</th>\n",
       "      <th>gender</th>\n",
       "      <th>age</th>\n",
       "      <th>race</th>\n",
       "      <th>violation_raw</th>\n",
       "      <th>violation</th>\n",
       "      <th>search_conducted</th>\n",
       "      <th>stop_outcome</th>\n",
       "      <th>is_arrested</th>\n",
       "      <th>stop_duration</th>\n",
       "      <th>drugs_related_stop</th>\n",
       "      <th>stop_hour</th>\n",
       "    </tr>\n",
       "  </thead>\n",
       "  <tbody>\n",
       "    <tr>\n",
       "      <th>0</th>\n",
       "      <td>2005-01-02</td>\n",
       "      <td>1:55</td>\n",
       "      <td>0</td>\n",
       "      <td>20.0</td>\n",
       "      <td>White</td>\n",
       "      <td>Speeding</td>\n",
       "      <td>Speeding</td>\n",
       "      <td>0</td>\n",
       "      <td>Citation</td>\n",
       "      <td>0</td>\n",
       "      <td>0-15 Min</td>\n",
       "      <td>False</td>\n",
       "      <td>1</td>\n",
       "    </tr>\n",
       "    <tr>\n",
       "      <th>1</th>\n",
       "      <td>2005-01-18</td>\n",
       "      <td>8:15</td>\n",
       "      <td>0</td>\n",
       "      <td>40.0</td>\n",
       "      <td>White</td>\n",
       "      <td>Speeding</td>\n",
       "      <td>Speeding</td>\n",
       "      <td>0</td>\n",
       "      <td>Citation</td>\n",
       "      <td>0</td>\n",
       "      <td>0-15 Min</td>\n",
       "      <td>False</td>\n",
       "      <td>8</td>\n",
       "    </tr>\n",
       "    <tr>\n",
       "      <th>2</th>\n",
       "      <td>2005-01-23</td>\n",
       "      <td>23:15</td>\n",
       "      <td>0</td>\n",
       "      <td>33.0</td>\n",
       "      <td>White</td>\n",
       "      <td>Speeding</td>\n",
       "      <td>Speeding</td>\n",
       "      <td>0</td>\n",
       "      <td>Citation</td>\n",
       "      <td>0</td>\n",
       "      <td>0-15 Min</td>\n",
       "      <td>False</td>\n",
       "      <td>23</td>\n",
       "    </tr>\n",
       "    <tr>\n",
       "      <th>3</th>\n",
       "      <td>2005-02-20</td>\n",
       "      <td>17:15</td>\n",
       "      <td>0</td>\n",
       "      <td>19.0</td>\n",
       "      <td>White</td>\n",
       "      <td>Call for Service</td>\n",
       "      <td>Other</td>\n",
       "      <td>0</td>\n",
       "      <td>Arrest Driver</td>\n",
       "      <td>1</td>\n",
       "      <td>16-30 Min</td>\n",
       "      <td>False</td>\n",
       "      <td>17</td>\n",
       "    </tr>\n",
       "    <tr>\n",
       "      <th>4</th>\n",
       "      <td>2005-03-14</td>\n",
       "      <td>10:00</td>\n",
       "      <td>1</td>\n",
       "      <td>21.0</td>\n",
       "      <td>White</td>\n",
       "      <td>Speeding</td>\n",
       "      <td>Speeding</td>\n",
       "      <td>0</td>\n",
       "      <td>Citation</td>\n",
       "      <td>0</td>\n",
       "      <td>0-15 Min</td>\n",
       "      <td>False</td>\n",
       "      <td>10</td>\n",
       "    </tr>\n",
       "  </tbody>\n",
       "</table>\n",
       "</div>"
      ],
      "text/plain": [
       "   stop_date stop_time  gender   age   race     violation_raw violation  \\\n",
       "0 2005-01-02      1:55       0  20.0  White          Speeding  Speeding   \n",
       "1 2005-01-18      8:15       0  40.0  White          Speeding  Speeding   \n",
       "2 2005-01-23     23:15       0  33.0  White          Speeding  Speeding   \n",
       "3 2005-02-20     17:15       0  19.0  White  Call for Service     Other   \n",
       "4 2005-03-14     10:00       1  21.0  White          Speeding  Speeding   \n",
       "\n",
       "   search_conducted   stop_outcome  is_arrested stop_duration  \\\n",
       "0                 0       Citation            0      0-15 Min   \n",
       "1                 0       Citation            0      0-15 Min   \n",
       "2                 0       Citation            0      0-15 Min   \n",
       "3                 0  Arrest Driver            1     16-30 Min   \n",
       "4                 0       Citation            0      0-15 Min   \n",
       "\n",
       "  drugs_related_stop  stop_hour  \n",
       "0              False          1  \n",
       "1              False          8  \n",
       "2              False         23  \n",
       "3              False         17  \n",
       "4              False         10  "
      ]
     },
     "execution_count": 59,
     "metadata": {},
     "output_type": "execute_result"
    }
   ],
   "source": [
    "cleaned_data['gender'].replace({'M': 0,'F': 1}, inplace=True)\n",
    "cleaned_data.head()"
   ]
  },
  {
   "cell_type": "code",
   "execution_count": 60,
   "id": "3b60ddd3",
   "metadata": {},
   "outputs": [
    {
     "name": "stdout",
     "output_type": "stream",
     "text": [
      "<class 'pandas.core.frame.DataFrame'>\n",
      "Int64Index: 49580 entries, 0 to 52964\n",
      "Data columns (total 13 columns):\n",
      " #   Column              Non-Null Count  Dtype         \n",
      "---  ------              --------------  -----         \n",
      " 0   stop_date           49580 non-null  datetime64[ns]\n",
      " 1   stop_time           49580 non-null  object        \n",
      " 2   gender              49580 non-null  int64         \n",
      " 3   age                 49580 non-null  float64       \n",
      " 4   race                49580 non-null  object        \n",
      " 5   violation_raw       49580 non-null  object        \n",
      " 6   violation           49580 non-null  object        \n",
      " 7   search_conducted    49580 non-null  int32         \n",
      " 8   stop_outcome        49580 non-null  object        \n",
      " 9   is_arrested         49580 non-null  int32         \n",
      " 10  stop_duration       49580 non-null  object        \n",
      " 11  drugs_related_stop  49580 non-null  object        \n",
      " 12  stop_hour           49580 non-null  int64         \n",
      "dtypes: datetime64[ns](1), float64(1), int32(2), int64(2), object(7)\n",
      "memory usage: 4.9+ MB\n"
     ]
    }
   ],
   "source": [
    "cleaned_data.info()"
   ]
  },
  {
   "cell_type": "markdown",
   "id": "fd3afaf8",
   "metadata": {},
   "source": [
    "It is now ready for real this time"
   ]
  },
  {
   "cell_type": "markdown",
   "id": "b9befffa",
   "metadata": {},
   "source": [
    "### 2. Exploratory data analysis"
   ]
  },
  {
   "cell_type": "markdown",
   "id": "9d7b7e4c",
   "metadata": {},
   "source": [
    "Identify key series of the dataset and provide statistical summary of the data\n",
    "By identifying key series of the dataset I understood it as attributes of the dataset which are key to my analyses. What I think are key series of the dataset for my current study are violation, stop_hour, age, race and gender. "
   ]
  },
  {
   "cell_type": "code",
   "execution_count": 61,
   "id": "06cc1489",
   "metadata": {},
   "outputs": [],
   "source": [
    "# for a new section the dataframe is being handed down to a new variable\n",
    "data = cleaned_data.copy()"
   ]
  },
  {
   "cell_type": "markdown",
   "id": "55fe8f13",
   "metadata": {},
   "source": [
    "Histograms allow seeing the distribution of data for various columns."
   ]
  },
  {
   "cell_type": "code",
   "execution_count": 62,
   "id": "25c113f6",
   "metadata": {},
   "outputs": [
    {
     "data": {
      "text/plain": [
       "(array([37363.,  6594.,  1375.,  4099.,   149.]),\n",
       " array([0. , 0.8, 1.6, 2.4, 3.2, 4. ]),\n",
       " <BarContainer object of 5 artists>)"
      ]
     },
     "execution_count": 62,
     "metadata": {},
     "output_type": "execute_result"
    },
    {
     "data": {
      "image/png": "[encoded data removed]",
      "text/plain": [
       "<Figure size 1080x720 with 4 Axes>"
      ]
     },
     "metadata": {},
     "output_type": "display_data"
    }
   ],
   "source": [
    "fig, axes = plt.subplots(2, 2, figsize=(15,10))\n",
    "\n",
    "# First row\n",
    "axes[0,0].set_title(\"category of violation\")\n",
    "axes[0,0].hist(data['violation'], color='black', alpha=1)\n",
    "axes[0,1].set_title(\"hour\")\n",
    "axes[0,1].hist(data['stop_hour'], bins=24, color='black', alpha=1)\n",
    "\n",
    "# Second row\n",
    "axes[1,0].set_title(\"age group\")\n",
    "axes[1,0].hist(data['age'], color='black', alpha=1)\n",
    "axes[1,1].set_title(\"race group\")\n",
    "axes[1,1].hist(data['race'], bins=5, color='black', alpha=1)"
   ]
  },
  {
   "cell_type": "markdown",
   "id": "3a56fc89",
   "metadata": {},
   "source": [
    "From the data above:\n",
    "  - it can be seen that speeding is the most common traffic violation and it follows what I had found while writng the introduction on what is the most common traffic violation.\n",
    "  - violation were most frequent as early as 7:00 in the morning until 15:00 in the afternoon and it got more frequent again between 23:00 and midnight. The frequency was lower after midnight and late evening hours.\n",
    "  - 20 to 50 age group covers most of the violation. The minimum age of someone has been as low 15 and as high as 88\n",
    "  - the traffic violator consist of mostly White, Black, Asian & Hispanic with unnoticeable amount of other race. From among them the chart shows that the white race were the one with the most traffic violators with a substantial 75%. This made me wonder as I expected a more even distribution but maybe the dataset was taken from a place where the white race is very eminent and other race are outliers makign the dataset skewed."
   ]
  },
  {
   "cell_type": "markdown",
   "id": "b15c609d",
   "metadata": {},
   "source": [
    "Gender and violations correlation"
   ]
  },
  {
   "cell_type": "code",
   "execution_count": 63,
   "id": "c9fe16de",
   "metadata": {},
   "outputs": [
    {
     "data": {
      "text/plain": [
       "0    36564\n",
       "1    13016\n",
       "Name: gender, dtype: int64"
      ]
     },
     "execution_count": 63,
     "metadata": {},
     "output_type": "execute_result"
    }
   ],
   "source": [
    "# Gender count\n",
    "gender = data['gender'].value_counts()\n",
    "gender"
   ]
  },
  {
   "cell_type": "code",
   "execution_count": 64,
   "id": "1bd4c1cd",
   "metadata": {},
   "outputs": [
    {
     "data": {
      "text/plain": [
       "<matplotlib.legend.Legend at 0x191481975e0>"
      ]
     },
     "execution_count": 64,
     "metadata": {},
     "output_type": "execute_result"
    },
    {
     "data": {
      "image/png": "[encoded data removed]",
      "text/plain": [
       "<Figure size 360x360 with 1 Axes>"
      ]
     },
     "metadata": {},
     "output_type": "display_data"
    }
   ],
   "source": [
    "fig = plt.figure(figsize =(5, 5))\n",
    "gender.plot.pie()\n",
    "plt.title('Gender Of Violator')\n",
    "plt.legend(['M',\"F\"])"
   ]
  },
  {
   "cell_type": "markdown",
   "id": "3eff3e7f",
   "metadata": {},
   "source": [
    "As it can be seen from the above pie chart the majority of violations were done by men."
   ]
  },
  {
   "cell_type": "markdown",
   "id": "49338538",
   "metadata": {},
   "source": [
    "#### Now lets explores some relationship & see if there is a correlation:"
   ]
  },
  {
   "cell_type": "markdown",
   "id": "3ff215de",
   "metadata": {},
   "source": [
    "##### Age and gender"
   ]
  },
  {
   "cell_type": "code",
   "execution_count": 65,
   "id": "85e24514",
   "metadata": {},
   "outputs": [
    {
     "data": {
      "text/plain": [
       "count    49580.000000\n",
       "mean        34.173629\n",
       "std         12.739553\n",
       "min         15.000000\n",
       "25%         23.000000\n",
       "50%         31.000000\n",
       "75%         43.000000\n",
       "max         88.000000\n",
       "Name: age, dtype: float64"
      ]
     },
     "execution_count": 65,
     "metadata": {},
     "output_type": "execute_result"
    }
   ],
   "source": [
    "# Generates descriptive statistics of the age column\n",
    "data[\"age\"].describe()"
   ]
  },
  {
   "cell_type": "code",
   "execution_count": 66,
   "id": "ce520eae",
   "metadata": {},
   "outputs": [
    {
     "data": {
      "text/html": [
       "<div>\n",
       "<style scoped>\n",
       "    .dataframe tbody tr th:only-of-type {\n",
       "        vertical-align: middle;\n",
       "    }\n",
       "\n",
       "    .dataframe tbody tr th {\n",
       "        vertical-align: top;\n",
       "    }\n",
       "\n",
       "    .dataframe thead th {\n",
       "        text-align: right;\n",
       "    }\n",
       "</style>\n",
       "<table border=\"1\" class=\"dataframe\">\n",
       "  <thead>\n",
       "    <tr style=\"text-align: right;\">\n",
       "      <th></th>\n",
       "      <th>age</th>\n",
       "    </tr>\n",
       "    <tr>\n",
       "      <th>gender</th>\n",
       "      <th></th>\n",
       "    </tr>\n",
       "  </thead>\n",
       "  <tbody>\n",
       "    <tr>\n",
       "      <th>0</th>\n",
       "      <td>34.840543</td>\n",
       "    </tr>\n",
       "    <tr>\n",
       "      <th>1</th>\n",
       "      <td>32.300165</td>\n",
       "    </tr>\n",
       "  </tbody>\n",
       "</table>\n",
       "</div>"
      ],
      "text/plain": [
       "              age\n",
       "gender           \n",
       "0       34.840543\n",
       "1       32.300165"
      ]
     },
     "execution_count": 66,
     "metadata": {},
     "output_type": "execute_result"
    }
   ],
   "source": [
    "# group gender and age by the gender column\n",
    "data[[\"gender\", \"age\"]].groupby(\"gender\").mean()"
   ]
  },
  {
   "cell_type": "code",
   "execution_count": 67,
   "id": "5f8eb019",
   "metadata": {},
   "outputs": [
    {
     "data": {
      "text/plain": [
       "gender\n",
       "0    AxesSubplot(0.125,0.125;0.775x0.755)\n",
       "1    AxesSubplot(0.125,0.125;0.775x0.755)\n",
       "Name: age, dtype: object"
      ]
     },
     "execution_count": 67,
     "metadata": {},
     "output_type": "execute_result"
    },
    {
     "data": {
      "image/png": "[encoded data removed]",
      "text/plain": [
       "<Figure size 432x288 with 1 Axes>"
      ]
     },
     "metadata": {},
     "output_type": "display_data"
    }
   ],
   "source": [
    "# plots the gender against age distribution\n",
    "data.groupby('gender').age.plot(kind='kde', title = \"Age distribution between gender\")"
   ]
  },
  {
   "cell_type": "markdown",
   "id": "e8b8a26a",
   "metadata": {},
   "source": [
    "Observations \n",
    " - 20 to 50 age group covers most of the violation\n",
    " - The minimum age of someone has been as low 15 and as high as 88\n",
    " - The female and male has similar structure to their wave and their respective mean value are also close together which shows that gender has no correlation with act of violation but the male violator has the highest peak so maybe females are better drivers?"
   ]
  },
  {
   "cell_type": "markdown",
   "id": "9c9e4a90",
   "metadata": {},
   "source": [
    "##### Hour of the day and violation occurence\n",
    "Should the road be avoided during certain hours of the day"
   ]
  },
  {
   "cell_type": "code",
   "execution_count": 68,
   "id": "2f2233d4",
   "metadata": {},
   "outputs": [
    {
     "data": {
      "text/plain": [
       "0    10\n",
       "Name: stop_hour, dtype: int64"
      ]
     },
     "execution_count": 68,
     "metadata": {},
     "output_type": "execute_result"
    }
   ],
   "source": [
    "# returns the mode of the stop_hour\n",
    "data['stop_hour'].mode()"
   ]
  },
  {
   "cell_type": "code",
   "execution_count": 69,
   "id": "7c16e535",
   "metadata": {},
   "outputs": [
    {
     "data": {
      "text/plain": [
       "<AxesSubplot:xlabel='stop_hour', ylabel='count'>"
      ]
     },
     "execution_count": 69,
     "metadata": {},
     "output_type": "execute_result"
    },
    {
     "data": {
      "image/png": "[encoded data removed]",
      "text/plain": [
       "<Figure size 432x288 with 1 Axes>"
      ]
     },
     "metadata": {},
     "output_type": "display_data"
    }
   ],
   "source": [
    "# plots the stop_hour against its amount\n",
    "sns.countplot(x=\"stop_hour\", data=data)"
   ]
  },
  {
   "cell_type": "markdown",
   "id": "70ed087c",
   "metadata": {},
   "source": [
    "My parameter for determining what to choose for the frquent list was if the counts exceeded the 2500 mark as it looked like the right amount to me.\n",
    " \n",
    "Observations\n",
    " - Violation were most frequent as early as 7:00 in the morning until 15:00 in the afternoon and it got more frequent again between 23:00 and midnight.\n",
    " - The frequency was lower after midnight and late evening hours.\n",
    " - These same observation were made earlier as well."
   ]
  },
  {
   "cell_type": "markdown",
   "id": "23a0ae91",
   "metadata": {},
   "source": [
    "##### Age and drugs relation"
   ]
  },
  {
   "cell_type": "code",
   "execution_count": 70,
   "id": "a7ce8944",
   "metadata": {},
   "outputs": [
    {
     "data": {
      "text/plain": [
       "False    49184\n",
       "True       396\n",
       "Name: drugs_related_stop, dtype: int64"
      ]
     },
     "execution_count": 70,
     "metadata": {},
     "output_type": "execute_result"
    }
   ],
   "source": [
    "data.drugs_related_stop.value_counts()"
   ]
  },
  {
   "cell_type": "code",
   "execution_count": 71,
   "id": "df36fe0e",
   "metadata": {},
   "outputs": [
    {
     "data": {
      "text/html": [
       "<div>\n",
       "<style scoped>\n",
       "    .dataframe tbody tr th:only-of-type {\n",
       "        vertical-align: middle;\n",
       "    }\n",
       "\n",
       "    .dataframe tbody tr th {\n",
       "        vertical-align: top;\n",
       "    }\n",
       "\n",
       "    .dataframe thead th {\n",
       "        text-align: right;\n",
       "    }\n",
       "</style>\n",
       "<table border=\"1\" class=\"dataframe\">\n",
       "  <thead>\n",
       "    <tr style=\"text-align: right;\">\n",
       "      <th></th>\n",
       "      <th>age</th>\n",
       "      <th>drugs_related_stop</th>\n",
       "    </tr>\n",
       "  </thead>\n",
       "  <tbody>\n",
       "    <tr>\n",
       "      <th>25294</th>\n",
       "      <td>15.0</td>\n",
       "      <td>False</td>\n",
       "    </tr>\n",
       "    <tr>\n",
       "      <th>17771</th>\n",
       "      <td>15.0</td>\n",
       "      <td>False</td>\n",
       "    </tr>\n",
       "    <tr>\n",
       "      <th>45988</th>\n",
       "      <td>15.0</td>\n",
       "      <td>False</td>\n",
       "    </tr>\n",
       "    <tr>\n",
       "      <th>10500</th>\n",
       "      <td>15.0</td>\n",
       "      <td>False</td>\n",
       "    </tr>\n",
       "    <tr>\n",
       "      <th>18357</th>\n",
       "      <td>15.0</td>\n",
       "      <td>False</td>\n",
       "    </tr>\n",
       "    <tr>\n",
       "      <th>...</th>\n",
       "      <td>...</td>\n",
       "      <td>...</td>\n",
       "    </tr>\n",
       "    <tr>\n",
       "      <th>23590</th>\n",
       "      <td>86.0</td>\n",
       "      <td>False</td>\n",
       "    </tr>\n",
       "    <tr>\n",
       "      <th>38468</th>\n",
       "      <td>86.0</td>\n",
       "      <td>False</td>\n",
       "    </tr>\n",
       "    <tr>\n",
       "      <th>48329</th>\n",
       "      <td>86.0</td>\n",
       "      <td>False</td>\n",
       "    </tr>\n",
       "    <tr>\n",
       "      <th>9829</th>\n",
       "      <td>88.0</td>\n",
       "      <td>False</td>\n",
       "    </tr>\n",
       "    <tr>\n",
       "      <th>50377</th>\n",
       "      <td>88.0</td>\n",
       "      <td>False</td>\n",
       "    </tr>\n",
       "  </tbody>\n",
       "</table>\n",
       "<p>49580 rows × 2 columns</p>\n",
       "</div>"
      ],
      "text/plain": [
       "        age drugs_related_stop\n",
       "25294  15.0              False\n",
       "17771  15.0              False\n",
       "45988  15.0              False\n",
       "10500  15.0              False\n",
       "18357  15.0              False\n",
       "...     ...                ...\n",
       "23590  86.0              False\n",
       "38468  86.0              False\n",
       "48329  86.0              False\n",
       "9829   88.0              False\n",
       "50377  88.0              False\n",
       "\n",
       "[49580 rows x 2 columns]"
      ]
     },
     "execution_count": 71,
     "metadata": {},
     "output_type": "execute_result"
    }
   ],
   "source": [
    "# getting the values in order for every age group\n",
    "drugs_and_age_sorted = data[['age','drugs_related_stop']].sort_values(by='age')\n",
    "drugs_and_age_sorted"
   ]
  },
  {
   "cell_type": "code",
   "execution_count": 72,
   "id": "48851d61",
   "metadata": {},
   "outputs": [
    {
     "data": {
      "text/html": [
       "<div>\n",
       "<style scoped>\n",
       "    .dataframe tbody tr th:only-of-type {\n",
       "        vertical-align: middle;\n",
       "    }\n",
       "\n",
       "    .dataframe tbody tr th {\n",
       "        vertical-align: top;\n",
       "    }\n",
       "\n",
       "    .dataframe thead th {\n",
       "        text-align: right;\n",
       "    }\n",
       "</style>\n",
       "<table border=\"1\" class=\"dataframe\">\n",
       "  <thead>\n",
       "    <tr style=\"text-align: right;\">\n",
       "      <th></th>\n",
       "      <th>age</th>\n",
       "      <th>drugs_related_stop</th>\n",
       "    </tr>\n",
       "  </thead>\n",
       "  <tbody>\n",
       "    <tr>\n",
       "      <th>21981</th>\n",
       "      <td>16.0</td>\n",
       "      <td>True</td>\n",
       "    </tr>\n",
       "    <tr>\n",
       "      <th>46315</th>\n",
       "      <td>17.0</td>\n",
       "      <td>True</td>\n",
       "    </tr>\n",
       "    <tr>\n",
       "      <th>37174</th>\n",
       "      <td>17.0</td>\n",
       "      <td>True</td>\n",
       "    </tr>\n",
       "    <tr>\n",
       "      <th>40</th>\n",
       "      <td>17.0</td>\n",
       "      <td>True</td>\n",
       "    </tr>\n",
       "    <tr>\n",
       "      <th>41</th>\n",
       "      <td>17.0</td>\n",
       "      <td>True</td>\n",
       "    </tr>\n",
       "    <tr>\n",
       "      <th>...</th>\n",
       "      <td>...</td>\n",
       "      <td>...</td>\n",
       "    </tr>\n",
       "    <tr>\n",
       "      <th>4909</th>\n",
       "      <td>52.0</td>\n",
       "      <td>True</td>\n",
       "    </tr>\n",
       "    <tr>\n",
       "      <th>51902</th>\n",
       "      <td>54.0</td>\n",
       "      <td>True</td>\n",
       "    </tr>\n",
       "    <tr>\n",
       "      <th>12095</th>\n",
       "      <td>55.0</td>\n",
       "      <td>True</td>\n",
       "    </tr>\n",
       "    <tr>\n",
       "      <th>33457</th>\n",
       "      <td>58.0</td>\n",
       "      <td>True</td>\n",
       "    </tr>\n",
       "    <tr>\n",
       "      <th>51824</th>\n",
       "      <td>59.0</td>\n",
       "      <td>True</td>\n",
       "    </tr>\n",
       "  </tbody>\n",
       "</table>\n",
       "<p>396 rows × 2 columns</p>\n",
       "</div>"
      ],
      "text/plain": [
       "        age drugs_related_stop\n",
       "21981  16.0               True\n",
       "46315  17.0               True\n",
       "37174  17.0               True\n",
       "40     17.0               True\n",
       "41     17.0               True\n",
       "...     ...                ...\n",
       "4909   52.0               True\n",
       "51902  54.0               True\n",
       "12095  55.0               True\n",
       "33457  58.0               True\n",
       "51824  59.0               True\n",
       "\n",
       "[396 rows x 2 columns]"
      ]
     },
     "execution_count": 72,
     "metadata": {},
     "output_type": "execute_result"
    }
   ],
   "source": [
    "true_cases = drugs_and_age_sorted.query('drugs_related_stop==True')\n",
    "true_cases"
   ]
  },
  {
   "cell_type": "code",
   "execution_count": 73,
   "id": "e7811268",
   "metadata": {},
   "outputs": [
    {
     "data": {
      "text/plain": [
       "Text(0, 0.5, 'Frequency')"
      ]
     },
     "execution_count": 73,
     "metadata": {},
     "output_type": "execute_result"
    },
    {
     "data": {
      "image/png": "[encoded data removed]",
      "text/plain": [
       "<Figure size 432x288 with 1 Axes>"
      ]
     },
     "metadata": {},
     "output_type": "display_data"
    }
   ],
   "source": [
    "true_cases.plot(kind ='hist', color ='black', alpha = 1)\n",
    "plt.xlabel(\"Violator's age\")\n",
    "plt.ylabel('Frequency')"
   ]
  },
  {
   "cell_type": "markdown",
   "id": "e102f082",
   "metadata": {},
   "source": [
    "From the above histogram it can be seen that the largest percentage of violations in traffic violations was between the ages of 20 to 30, with the most violations under the influence of drugs"
   ]
  },
  {
   "cell_type": "markdown",
   "id": "bdc83501",
   "metadata": {},
   "source": [
    "### 3. Data regression model\n",
    "\n",
    "  - https://www.kaggle.com/code/yadhua/predicting-arrest/notebook (for implementation help)"
   ]
  },
  {
   "cell_type": "code",
   "execution_count": 74,
   "id": "257f5c09",
   "metadata": {},
   "outputs": [
    {
     "name": "stdout",
     "output_type": "stream",
     "text": [
      "<class 'pandas.core.frame.DataFrame'>\n",
      "Int64Index: 49580 entries, 0 to 52964\n",
      "Data columns (total 13 columns):\n",
      " #   Column              Non-Null Count  Dtype         \n",
      "---  ------              --------------  -----         \n",
      " 0   stop_date           49580 non-null  datetime64[ns]\n",
      " 1   stop_time           49580 non-null  object        \n",
      " 2   gender              49580 non-null  int64         \n",
      " 3   age                 49580 non-null  float64       \n",
      " 4   race                49580 non-null  object        \n",
      " 5   violation_raw       49580 non-null  object        \n",
      " 6   violation           49580 non-null  object        \n",
      " 7   search_conducted    49580 non-null  int32         \n",
      " 8   stop_outcome        49580 non-null  object        \n",
      " 9   is_arrested         49580 non-null  int32         \n",
      " 10  stop_duration       49580 non-null  object        \n",
      " 11  drugs_related_stop  49580 non-null  object        \n",
      " 12  stop_hour           49580 non-null  int64         \n",
      "dtypes: datetime64[ns](1), float64(1), int32(2), int64(2), object(7)\n",
      "memory usage: 4.9+ MB\n"
     ]
    }
   ],
   "source": [
    "data.info()"
   ]
  },
  {
   "cell_type": "markdown",
   "id": "4a76956f",
   "metadata": {},
   "source": [
    "I want to build a model to predict a person who is likely to commit a violation. This model should be able to predict whether a person which such attributes is likely to commit violation serious enough to get arrested.\n",
    "I chose is_arrested instead of violation because whats important is are those violation that result in arrest and is_arrested tells just that while violation tells which violation it was stopped for not its conclusion. For me conclusion is what matters not what it was stopped for. This model should predict who is likely to be arrested for violating traffic rules. In my opinion I think that not everyone who gets stopped are likely to have an accident but those people that get arrested. Also I can get to see which crime they get arrested for and it they are of any relevance."
   ]
  },
  {
   "cell_type": "markdown",
   "id": "04770ff8",
   "metadata": {},
   "source": [
    "The feature against which the stop_outcome will be put together with to see which if any are relevant will be:\n",
    "  - stop_time: To see whether there are hours of the day where one should avoid driving or drive more carefully\n",
    "  - gender: is it important to look out more for a certain gender\n",
    "  - age: does age hold any importance with regard to people getting arrested.\n",
    "  - race: do we have to be more on the look for certain race.\n",
    "  - violation: is the speeding really something to look out for.\n",
    "  - search_conducted: i feel this to be of very high importance and would like to see if it holds any importance.\n",
    "  - stop_hour: Is it of any importance with regards to people getting arrested.\n",
    "  - stop_duration: is the duration importance on who is likely to get arrested? what duration are more likely to be arrested\n",
    "  - drug_related_stop: are they important to consider. "
   ]
  },
  {
   "cell_type": "code",
   "execution_count": 75,
   "id": "69e2b9c0",
   "metadata": {},
   "outputs": [
    {
     "data": {
      "text/html": [
       "<div>\n",
       "<style scoped>\n",
       "    .dataframe tbody tr th:only-of-type {\n",
       "        vertical-align: middle;\n",
       "    }\n",
       "\n",
       "    .dataframe tbody tr th {\n",
       "        vertical-align: top;\n",
       "    }\n",
       "\n",
       "    .dataframe thead th {\n",
       "        text-align: right;\n",
       "    }\n",
       "</style>\n",
       "<table border=\"1\" class=\"dataframe\">\n",
       "  <thead>\n",
       "    <tr style=\"text-align: right;\">\n",
       "      <th></th>\n",
       "      <th>stop_date</th>\n",
       "      <th>stop_time</th>\n",
       "      <th>gender</th>\n",
       "      <th>age</th>\n",
       "      <th>race</th>\n",
       "      <th>violation_raw</th>\n",
       "      <th>violation</th>\n",
       "      <th>search_conducted</th>\n",
       "      <th>is_arrested</th>\n",
       "      <th>stop_duration</th>\n",
       "      <th>drugs_related_stop</th>\n",
       "      <th>stop_hour</th>\n",
       "    </tr>\n",
       "  </thead>\n",
       "  <tbody>\n",
       "    <tr>\n",
       "      <th>0</th>\n",
       "      <td>2005-01-02</td>\n",
       "      <td>1:55</td>\n",
       "      <td>0</td>\n",
       "      <td>20.0</td>\n",
       "      <td>White</td>\n",
       "      <td>Speeding</td>\n",
       "      <td>Speeding</td>\n",
       "      <td>0</td>\n",
       "      <td>0</td>\n",
       "      <td>0-15 Min</td>\n",
       "      <td>False</td>\n",
       "      <td>1</td>\n",
       "    </tr>\n",
       "    <tr>\n",
       "      <th>1</th>\n",
       "      <td>2005-01-18</td>\n",
       "      <td>8:15</td>\n",
       "      <td>0</td>\n",
       "      <td>40.0</td>\n",
       "      <td>White</td>\n",
       "      <td>Speeding</td>\n",
       "      <td>Speeding</td>\n",
       "      <td>0</td>\n",
       "      <td>0</td>\n",
       "      <td>0-15 Min</td>\n",
       "      <td>False</td>\n",
       "      <td>8</td>\n",
       "    </tr>\n",
       "    <tr>\n",
       "      <th>2</th>\n",
       "      <td>2005-01-23</td>\n",
       "      <td>23:15</td>\n",
       "      <td>0</td>\n",
       "      <td>33.0</td>\n",
       "      <td>White</td>\n",
       "      <td>Speeding</td>\n",
       "      <td>Speeding</td>\n",
       "      <td>0</td>\n",
       "      <td>0</td>\n",
       "      <td>0-15 Min</td>\n",
       "      <td>False</td>\n",
       "      <td>23</td>\n",
       "    </tr>\n",
       "    <tr>\n",
       "      <th>3</th>\n",
       "      <td>2005-02-20</td>\n",
       "      <td>17:15</td>\n",
       "      <td>0</td>\n",
       "      <td>19.0</td>\n",
       "      <td>White</td>\n",
       "      <td>Call for Service</td>\n",
       "      <td>Other</td>\n",
       "      <td>0</td>\n",
       "      <td>1</td>\n",
       "      <td>16-30 Min</td>\n",
       "      <td>False</td>\n",
       "      <td>17</td>\n",
       "    </tr>\n",
       "    <tr>\n",
       "      <th>4</th>\n",
       "      <td>2005-03-14</td>\n",
       "      <td>10:00</td>\n",
       "      <td>1</td>\n",
       "      <td>21.0</td>\n",
       "      <td>White</td>\n",
       "      <td>Speeding</td>\n",
       "      <td>Speeding</td>\n",
       "      <td>0</td>\n",
       "      <td>0</td>\n",
       "      <td>0-15 Min</td>\n",
       "      <td>False</td>\n",
       "      <td>10</td>\n",
       "    </tr>\n",
       "  </tbody>\n",
       "</table>\n",
       "</div>"
      ],
      "text/plain": [
       "   stop_date stop_time  gender   age   race     violation_raw violation  \\\n",
       "0 2005-01-02      1:55       0  20.0  White          Speeding  Speeding   \n",
       "1 2005-01-18      8:15       0  40.0  White          Speeding  Speeding   \n",
       "2 2005-01-23     23:15       0  33.0  White          Speeding  Speeding   \n",
       "3 2005-02-20     17:15       0  19.0  White  Call for Service     Other   \n",
       "4 2005-03-14     10:00       1  21.0  White          Speeding  Speeding   \n",
       "\n",
       "   search_conducted  is_arrested stop_duration drugs_related_stop  stop_hour  \n",
       "0                 0            0      0-15 Min              False          1  \n",
       "1                 0            0      0-15 Min              False          8  \n",
       "2                 0            0      0-15 Min              False         23  \n",
       "3                 0            1     16-30 Min              False         17  \n",
       "4                 0            0      0-15 Min              False         10  "
      ]
     },
     "execution_count": 75,
     "metadata": {},
     "output_type": "execute_result"
    }
   ],
   "source": [
    "# Since stop_outcome and is_arrested talking about the same thing is it of no relevance and will\n",
    "# only slow down the model.\n",
    "data.drop('stop_outcome',axis=1,inplace=True)\n",
    "data.head()"
   ]
  },
  {
   "cell_type": "code",
   "execution_count": 76,
   "id": "fa657d53",
   "metadata": {},
   "outputs": [
    {
     "data": {
      "text/html": [
       "<div>\n",
       "<style scoped>\n",
       "    .dataframe tbody tr th:only-of-type {\n",
       "        vertical-align: middle;\n",
       "    }\n",
       "\n",
       "    .dataframe tbody tr th {\n",
       "        vertical-align: top;\n",
       "    }\n",
       "\n",
       "    .dataframe thead th {\n",
       "        text-align: right;\n",
       "    }\n",
       "</style>\n",
       "<table border=\"1\" class=\"dataframe\">\n",
       "  <thead>\n",
       "    <tr style=\"text-align: right;\">\n",
       "      <th></th>\n",
       "      <th>gender</th>\n",
       "      <th>age</th>\n",
       "      <th>search_conducted</th>\n",
       "      <th>is_arrested</th>\n",
       "      <th>drugs_related_stop</th>\n",
       "      <th>stop_hour</th>\n",
       "      <th>Asian</th>\n",
       "      <th>Black</th>\n",
       "      <th>Hispanic</th>\n",
       "      <th>Other</th>\n",
       "      <th>White</th>\n",
       "      <th>0-15 Min</th>\n",
       "      <th>16-30 Min</th>\n",
       "      <th>30+ Min</th>\n",
       "      <th>Equipment</th>\n",
       "      <th>Moving violation</th>\n",
       "      <th>Other</th>\n",
       "      <th>Registration/plates</th>\n",
       "      <th>Speeding</th>\n",
       "    </tr>\n",
       "  </thead>\n",
       "  <tbody>\n",
       "    <tr>\n",
       "      <th>0</th>\n",
       "      <td>0</td>\n",
       "      <td>20.0</td>\n",
       "      <td>0</td>\n",
       "      <td>0</td>\n",
       "      <td>False</td>\n",
       "      <td>1</td>\n",
       "      <td>0</td>\n",
       "      <td>0</td>\n",
       "      <td>0</td>\n",
       "      <td>0</td>\n",
       "      <td>1</td>\n",
       "      <td>1</td>\n",
       "      <td>0</td>\n",
       "      <td>0</td>\n",
       "      <td>0</td>\n",
       "      <td>0</td>\n",
       "      <td>0</td>\n",
       "      <td>0</td>\n",
       "      <td>1</td>\n",
       "    </tr>\n",
       "    <tr>\n",
       "      <th>1</th>\n",
       "      <td>0</td>\n",
       "      <td>40.0</td>\n",
       "      <td>0</td>\n",
       "      <td>0</td>\n",
       "      <td>False</td>\n",
       "      <td>8</td>\n",
       "      <td>0</td>\n",
       "      <td>0</td>\n",
       "      <td>0</td>\n",
       "      <td>0</td>\n",
       "      <td>1</td>\n",
       "      <td>1</td>\n",
       "      <td>0</td>\n",
       "      <td>0</td>\n",
       "      <td>0</td>\n",
       "      <td>0</td>\n",
       "      <td>0</td>\n",
       "      <td>0</td>\n",
       "      <td>1</td>\n",
       "    </tr>\n",
       "    <tr>\n",
       "      <th>2</th>\n",
       "      <td>0</td>\n",
       "      <td>33.0</td>\n",
       "      <td>0</td>\n",
       "      <td>0</td>\n",
       "      <td>False</td>\n",
       "      <td>23</td>\n",
       "      <td>0</td>\n",
       "      <td>0</td>\n",
       "      <td>0</td>\n",
       "      <td>0</td>\n",
       "      <td>1</td>\n",
       "      <td>1</td>\n",
       "      <td>0</td>\n",
       "      <td>0</td>\n",
       "      <td>0</td>\n",
       "      <td>0</td>\n",
       "      <td>0</td>\n",
       "      <td>0</td>\n",
       "      <td>1</td>\n",
       "    </tr>\n",
       "    <tr>\n",
       "      <th>3</th>\n",
       "      <td>0</td>\n",
       "      <td>19.0</td>\n",
       "      <td>0</td>\n",
       "      <td>1</td>\n",
       "      <td>False</td>\n",
       "      <td>17</td>\n",
       "      <td>0</td>\n",
       "      <td>0</td>\n",
       "      <td>0</td>\n",
       "      <td>0</td>\n",
       "      <td>1</td>\n",
       "      <td>0</td>\n",
       "      <td>1</td>\n",
       "      <td>0</td>\n",
       "      <td>0</td>\n",
       "      <td>0</td>\n",
       "      <td>1</td>\n",
       "      <td>0</td>\n",
       "      <td>0</td>\n",
       "    </tr>\n",
       "    <tr>\n",
       "      <th>4</th>\n",
       "      <td>1</td>\n",
       "      <td>21.0</td>\n",
       "      <td>0</td>\n",
       "      <td>0</td>\n",
       "      <td>False</td>\n",
       "      <td>10</td>\n",
       "      <td>0</td>\n",
       "      <td>0</td>\n",
       "      <td>0</td>\n",
       "      <td>0</td>\n",
       "      <td>1</td>\n",
       "      <td>1</td>\n",
       "      <td>0</td>\n",
       "      <td>0</td>\n",
       "      <td>0</td>\n",
       "      <td>0</td>\n",
       "      <td>0</td>\n",
       "      <td>0</td>\n",
       "      <td>1</td>\n",
       "    </tr>\n",
       "  </tbody>\n",
       "</table>\n",
       "</div>"
      ],
      "text/plain": [
       "   gender   age  search_conducted  is_arrested drugs_related_stop  stop_hour  \\\n",
       "0       0  20.0                 0            0              False          1   \n",
       "1       0  40.0                 0            0              False          8   \n",
       "2       0  33.0                 0            0              False         23   \n",
       "3       0  19.0                 0            1              False         17   \n",
       "4       1  21.0                 0            0              False         10   \n",
       "\n",
       "   Asian  Black  Hispanic  Other  White  0-15 Min  16-30 Min  30+ Min  \\\n",
       "0      0      0         0      0      1         1          0        0   \n",
       "1      0      0         0      0      1         1          0        0   \n",
       "2      0      0         0      0      1         1          0        0   \n",
       "3      0      0         0      0      1         0          1        0   \n",
       "4      0      0         0      0      1         1          0        0   \n",
       "\n",
       "   Equipment  Moving violation  Other  Registration/plates  Speeding  \n",
       "0          0                 0      0                    0         1  \n",
       "1          0                 0      0                    0         1  \n",
       "2          0                 0      0                    0         1  \n",
       "3          0                 0      1                    0         0  \n",
       "4          0                 0      0                    0         1  "
      ]
     },
     "execution_count": 76,
     "metadata": {},
     "output_type": "execute_result"
    }
   ],
   "source": [
    "# Adding all the extra column, those such as race that needs to be separated and put into new columns.\n",
    "# get_dummies converts each unique element present in the object to a column heading.\n",
    "# For eg., race will get white, asian etc.\n",
    "# I have chose 3 column to separate: races, stop_duration, and violation\n",
    "\n",
    "races = pd.get_dummies(data['race'])\n",
    "data = pd.concat([data, races], axis=1)\n",
    "data.drop('race', axis=1, inplace=True)\n",
    "\n",
    "durations = pd.get_dummies(data['stop_duration'])\n",
    "data = pd.concat([data, durations], axis=1)\n",
    "data.drop('stop_duration', axis=1, inplace=True)\n",
    "\n",
    "violations = pd.get_dummies(data['violation'])\n",
    "data = pd.concat([data, violations], axis=1)\n",
    "data.drop('violation', axis=1, inplace=True)\n",
    "\n",
    "# removing stop_date as I don't find it to be of any relevance and it will result in a better model\n",
    "# is what I think\n",
    "data.drop('stop_date',axis=1,inplace=True)\n",
    "\n",
    "# dropping stop_time as well as i already have stop_hour and so it has no relevancy\n",
    "data.drop('stop_time',axis=1,inplace=True)\n",
    "\n",
    "# dropping violation_raw as there is already violation\n",
    "data.drop('violation_raw',axis=1,inplace=True)\n",
    "data.head()"
   ]
  },
  {
   "cell_type": "markdown",
   "id": "16dfe3af",
   "metadata": {},
   "source": [
    "I also need to turn the all the remaining colomn that are in string or boolean type which would be drugs_related_stop."
   ]
  },
  {
   "cell_type": "code",
   "execution_count": 77,
   "id": "9d67c5b6",
   "metadata": {},
   "outputs": [
    {
     "data": {
      "text/html": [
       "<div>\n",
       "<style scoped>\n",
       "    .dataframe tbody tr th:only-of-type {\n",
       "        vertical-align: middle;\n",
       "    }\n",
       "\n",
       "    .dataframe tbody tr th {\n",
       "        vertical-align: top;\n",
       "    }\n",
       "\n",
       "    .dataframe thead th {\n",
       "        text-align: right;\n",
       "    }\n",
       "</style>\n",
       "<table border=\"1\" class=\"dataframe\">\n",
       "  <thead>\n",
       "    <tr style=\"text-align: right;\">\n",
       "      <th></th>\n",
       "      <th>gender</th>\n",
       "      <th>age</th>\n",
       "      <th>search_conducted</th>\n",
       "      <th>is_arrested</th>\n",
       "      <th>drugs_related_stop</th>\n",
       "      <th>stop_hour</th>\n",
       "      <th>Asian</th>\n",
       "      <th>Black</th>\n",
       "      <th>Hispanic</th>\n",
       "      <th>Other</th>\n",
       "      <th>White</th>\n",
       "      <th>0-15 Min</th>\n",
       "      <th>16-30 Min</th>\n",
       "      <th>30+ Min</th>\n",
       "      <th>Equipment</th>\n",
       "      <th>Moving violation</th>\n",
       "      <th>Other</th>\n",
       "      <th>Registration/plates</th>\n",
       "      <th>Speeding</th>\n",
       "    </tr>\n",
       "  </thead>\n",
       "  <tbody>\n",
       "    <tr>\n",
       "      <th>0</th>\n",
       "      <td>0</td>\n",
       "      <td>20.0</td>\n",
       "      <td>0</td>\n",
       "      <td>0</td>\n",
       "      <td>0</td>\n",
       "      <td>1</td>\n",
       "      <td>0</td>\n",
       "      <td>0</td>\n",
       "      <td>0</td>\n",
       "      <td>0</td>\n",
       "      <td>1</td>\n",
       "      <td>1</td>\n",
       "      <td>0</td>\n",
       "      <td>0</td>\n",
       "      <td>0</td>\n",
       "      <td>0</td>\n",
       "      <td>0</td>\n",
       "      <td>0</td>\n",
       "      <td>1</td>\n",
       "    </tr>\n",
       "    <tr>\n",
       "      <th>1</th>\n",
       "      <td>0</td>\n",
       "      <td>40.0</td>\n",
       "      <td>0</td>\n",
       "      <td>0</td>\n",
       "      <td>0</td>\n",
       "      <td>8</td>\n",
       "      <td>0</td>\n",
       "      <td>0</td>\n",
       "      <td>0</td>\n",
       "      <td>0</td>\n",
       "      <td>1</td>\n",
       "      <td>1</td>\n",
       "      <td>0</td>\n",
       "      <td>0</td>\n",
       "      <td>0</td>\n",
       "      <td>0</td>\n",
       "      <td>0</td>\n",
       "      <td>0</td>\n",
       "      <td>1</td>\n",
       "    </tr>\n",
       "    <tr>\n",
       "      <th>2</th>\n",
       "      <td>0</td>\n",
       "      <td>33.0</td>\n",
       "      <td>0</td>\n",
       "      <td>0</td>\n",
       "      <td>0</td>\n",
       "      <td>23</td>\n",
       "      <td>0</td>\n",
       "      <td>0</td>\n",
       "      <td>0</td>\n",
       "      <td>0</td>\n",
       "      <td>1</td>\n",
       "      <td>1</td>\n",
       "      <td>0</td>\n",
       "      <td>0</td>\n",
       "      <td>0</td>\n",
       "      <td>0</td>\n",
       "      <td>0</td>\n",
       "      <td>0</td>\n",
       "      <td>1</td>\n",
       "    </tr>\n",
       "    <tr>\n",
       "      <th>3</th>\n",
       "      <td>0</td>\n",
       "      <td>19.0</td>\n",
       "      <td>0</td>\n",
       "      <td>1</td>\n",
       "      <td>0</td>\n",
       "      <td>17</td>\n",
       "      <td>0</td>\n",
       "      <td>0</td>\n",
       "      <td>0</td>\n",
       "      <td>0</td>\n",
       "      <td>1</td>\n",
       "      <td>0</td>\n",
       "      <td>1</td>\n",
       "      <td>0</td>\n",
       "      <td>0</td>\n",
       "      <td>0</td>\n",
       "      <td>1</td>\n",
       "      <td>0</td>\n",
       "      <td>0</td>\n",
       "    </tr>\n",
       "    <tr>\n",
       "      <th>4</th>\n",
       "      <td>1</td>\n",
       "      <td>21.0</td>\n",
       "      <td>0</td>\n",
       "      <td>0</td>\n",
       "      <td>0</td>\n",
       "      <td>10</td>\n",
       "      <td>0</td>\n",
       "      <td>0</td>\n",
       "      <td>0</td>\n",
       "      <td>0</td>\n",
       "      <td>1</td>\n",
       "      <td>1</td>\n",
       "      <td>0</td>\n",
       "      <td>0</td>\n",
       "      <td>0</td>\n",
       "      <td>0</td>\n",
       "      <td>0</td>\n",
       "      <td>0</td>\n",
       "      <td>1</td>\n",
       "    </tr>\n",
       "  </tbody>\n",
       "</table>\n",
       "</div>"
      ],
      "text/plain": [
       "   gender   age  search_conducted  is_arrested  drugs_related_stop  stop_hour  \\\n",
       "0       0  20.0                 0            0                   0          1   \n",
       "1       0  40.0                 0            0                   0          8   \n",
       "2       0  33.0                 0            0                   0         23   \n",
       "3       0  19.0                 0            1                   0         17   \n",
       "4       1  21.0                 0            0                   0         10   \n",
       "\n",
       "   Asian  Black  Hispanic  Other  White  0-15 Min  16-30 Min  30+ Min  \\\n",
       "0      0      0         0      0      1         1          0        0   \n",
       "1      0      0         0      0      1         1          0        0   \n",
       "2      0      0         0      0      1         1          0        0   \n",
       "3      0      0         0      0      1         0          1        0   \n",
       "4      0      0         0      0      1         1          0        0   \n",
       "\n",
       "   Equipment  Moving violation  Other  Registration/plates  Speeding  \n",
       "0          0                 0      0                    0         1  \n",
       "1          0                 0      0                    0         1  \n",
       "2          0                 0      0                    0         1  \n",
       "3          0                 0      1                    0         0  \n",
       "4          0                 0      0                    0         1  "
      ]
     },
     "execution_count": 77,
     "metadata": {},
     "output_type": "execute_result"
    }
   ],
   "source": [
    "data[\"drugs_related_stop\"] = data[\"drugs_related_stop\"].astype(int)\n",
    "data.head()"
   ]
  },
  {
   "cell_type": "markdown",
   "id": "a0fd0759",
   "metadata": {},
   "source": [
    "Now we will see if there is a class imbalance as class imbalance is a common problem in machine learning, especially in classification problems. Imbalance data can hamper our model accuracy big time."
   ]
  },
  {
   "cell_type": "code",
   "execution_count": 78,
   "id": "efacc9f4",
   "metadata": {},
   "outputs": [
    {
     "data": {
      "text/plain": [
       "0    47711\n",
       "1     1869\n",
       "Name: is_arrested, dtype: int64"
      ]
     },
     "execution_count": 78,
     "metadata": {},
     "output_type": "execute_result"
    }
   ],
   "source": [
    "data['is_arrested'].value_counts()"
   ]
  },
  {
   "cell_type": "markdown",
   "id": "6d12d7e7",
   "metadata": {},
   "source": [
    "There appears to be a huge imbalance. I will be using sklearn library to train our model and using the default logistic regression. By default, the algorithm will give equal weights to both the classes."
   ]
  },
  {
   "cell_type": "code",
   "execution_count": 79,
   "id": "0bca479e",
   "metadata": {},
   "outputs": [
    {
     "data": {
      "text/html": [
       "<div>\n",
       "<style scoped>\n",
       "    .dataframe tbody tr th:only-of-type {\n",
       "        vertical-align: middle;\n",
       "    }\n",
       "\n",
       "    .dataframe tbody tr th {\n",
       "        vertical-align: top;\n",
       "    }\n",
       "\n",
       "    .dataframe thead th {\n",
       "        text-align: right;\n",
       "    }\n",
       "</style>\n",
       "<table border=\"1\" class=\"dataframe\">\n",
       "  <thead>\n",
       "    <tr style=\"text-align: right;\">\n",
       "      <th></th>\n",
       "      <th>gender</th>\n",
       "      <th>age</th>\n",
       "      <th>search_conducted</th>\n",
       "      <th>drugs_related_stop</th>\n",
       "      <th>stop_hour</th>\n",
       "      <th>Asian</th>\n",
       "      <th>Black</th>\n",
       "      <th>Hispanic</th>\n",
       "      <th>Other</th>\n",
       "      <th>White</th>\n",
       "      <th>0-15 Min</th>\n",
       "      <th>16-30 Min</th>\n",
       "      <th>30+ Min</th>\n",
       "      <th>Equipment</th>\n",
       "      <th>Moving violation</th>\n",
       "      <th>Other</th>\n",
       "      <th>Registration/plates</th>\n",
       "      <th>Speeding</th>\n",
       "    </tr>\n",
       "  </thead>\n",
       "  <tbody>\n",
       "    <tr>\n",
       "      <th>20376</th>\n",
       "      <td>0</td>\n",
       "      <td>39.0</td>\n",
       "      <td>0</td>\n",
       "      <td>0</td>\n",
       "      <td>16</td>\n",
       "      <td>0</td>\n",
       "      <td>0</td>\n",
       "      <td>0</td>\n",
       "      <td>0</td>\n",
       "      <td>1</td>\n",
       "      <td>1</td>\n",
       "      <td>0</td>\n",
       "      <td>0</td>\n",
       "      <td>0</td>\n",
       "      <td>0</td>\n",
       "      <td>0</td>\n",
       "      <td>0</td>\n",
       "      <td>1</td>\n",
       "    </tr>\n",
       "    <tr>\n",
       "      <th>18905</th>\n",
       "      <td>1</td>\n",
       "      <td>41.0</td>\n",
       "      <td>0</td>\n",
       "      <td>0</td>\n",
       "      <td>9</td>\n",
       "      <td>0</td>\n",
       "      <td>1</td>\n",
       "      <td>0</td>\n",
       "      <td>0</td>\n",
       "      <td>0</td>\n",
       "      <td>1</td>\n",
       "      <td>0</td>\n",
       "      <td>0</td>\n",
       "      <td>0</td>\n",
       "      <td>1</td>\n",
       "      <td>0</td>\n",
       "      <td>0</td>\n",
       "      <td>0</td>\n",
       "    </tr>\n",
       "    <tr>\n",
       "      <th>19498</th>\n",
       "      <td>1</td>\n",
       "      <td>59.0</td>\n",
       "      <td>0</td>\n",
       "      <td>0</td>\n",
       "      <td>9</td>\n",
       "      <td>0</td>\n",
       "      <td>0</td>\n",
       "      <td>0</td>\n",
       "      <td>0</td>\n",
       "      <td>1</td>\n",
       "      <td>1</td>\n",
       "      <td>0</td>\n",
       "      <td>0</td>\n",
       "      <td>0</td>\n",
       "      <td>0</td>\n",
       "      <td>0</td>\n",
       "      <td>0</td>\n",
       "      <td>1</td>\n",
       "    </tr>\n",
       "    <tr>\n",
       "      <th>12292</th>\n",
       "      <td>1</td>\n",
       "      <td>36.0</td>\n",
       "      <td>0</td>\n",
       "      <td>0</td>\n",
       "      <td>23</td>\n",
       "      <td>0</td>\n",
       "      <td>0</td>\n",
       "      <td>0</td>\n",
       "      <td>0</td>\n",
       "      <td>1</td>\n",
       "      <td>1</td>\n",
       "      <td>0</td>\n",
       "      <td>0</td>\n",
       "      <td>0</td>\n",
       "      <td>0</td>\n",
       "      <td>0</td>\n",
       "      <td>0</td>\n",
       "      <td>1</td>\n",
       "    </tr>\n",
       "    <tr>\n",
       "      <th>17106</th>\n",
       "      <td>0</td>\n",
       "      <td>20.0</td>\n",
       "      <td>0</td>\n",
       "      <td>0</td>\n",
       "      <td>9</td>\n",
       "      <td>0</td>\n",
       "      <td>0</td>\n",
       "      <td>0</td>\n",
       "      <td>0</td>\n",
       "      <td>1</td>\n",
       "      <td>1</td>\n",
       "      <td>0</td>\n",
       "      <td>0</td>\n",
       "      <td>0</td>\n",
       "      <td>0</td>\n",
       "      <td>0</td>\n",
       "      <td>0</td>\n",
       "      <td>1</td>\n",
       "    </tr>\n",
       "  </tbody>\n",
       "</table>\n",
       "</div>"
      ],
      "text/plain": [
       "       gender   age  search_conducted  drugs_related_stop  stop_hour  Asian  \\\n",
       "20376       0  39.0                 0                   0         16      0   \n",
       "18905       1  41.0                 0                   0          9      0   \n",
       "19498       1  59.0                 0                   0          9      0   \n",
       "12292       1  36.0                 0                   0         23      0   \n",
       "17106       0  20.0                 0                   0          9      0   \n",
       "\n",
       "       Black  Hispanic  Other  White  0-15 Min  16-30 Min  30+ Min  Equipment  \\\n",
       "20376      0         0      0      1         1          0        0          0   \n",
       "18905      1         0      0      0         1          0        0          0   \n",
       "19498      0         0      0      1         1          0        0          0   \n",
       "12292      0         0      0      1         1          0        0          0   \n",
       "17106      0         0      0      1         1          0        0          0   \n",
       "\n",
       "       Moving violation  Other  Registration/plates  Speeding  \n",
       "20376                 0      0                    0         1  \n",
       "18905                 1      0                    0         0  \n",
       "19498                 0      0                    0         1  \n",
       "12292                 0      0                    0         1  \n",
       "17106                 0      0                    0         1  "
      ]
     },
     "execution_count": 79,
     "metadata": {},
     "output_type": "execute_result"
    }
   ],
   "source": [
    "# dropping the is_arrested column as it is the y target\n",
    "X = data.drop('is_arrested',axis=1)\n",
    "y = data['is_arrested']\n",
    "# split to train and test\n",
    "X_train, X_test, y_train, y_test = train_test_split(X, y, train_size=0.8, random_state=100)\n",
    "X_train.head()"
   ]
  },
  {
   "cell_type": "code",
   "execution_count": 80,
   "id": "bfcae93b",
   "metadata": {},
   "outputs": [
    {
     "data": {
      "text/plain": [
       "20376    0\n",
       "18905    0\n",
       "19498    0\n",
       "12292    0\n",
       "17106    0\n",
       "Name: is_arrested, dtype: int32"
      ]
     },
     "execution_count": 80,
     "metadata": {},
     "output_type": "execute_result"
    }
   ],
   "source": [
    "y_train.head()"
   ]
  },
  {
   "cell_type": "markdown",
   "id": "97a001ab",
   "metadata": {},
   "source": [
    "  - https://www.geeksforgeeks.org/random-forest-classifier-using-scikit-learn/\n",
    "  - https://builtin.com/data-science/random-forest-algorithm\n",
    "  -https://towardsdatascience.com/hyperparameter-tuning-the-random-forest-in-python-using-scikit-learn-28d2aa77dd74 (understanding hyperparameter use)\n",
    "  - https://www.kaggle.com/code/yadhua/predicting-arrest/notebook (for implementation help)\n",
    "\n",
    "I will be using the Random Forest as my ML approach.\n",
    "The Random forest or Random Decision Forest is a supervised Machine learning algorithm used for classification, regression, and other tasks using decision trees.\n",
    "The Random forest classifier creates a set of decision trees from a randomly selected subset of the training set. It is basically a set of decision trees (DT) from a randomly selected subset of the training set and then it collects the votes from different decision trees to decide the final prediction.\n",
    "I chose this approach over other because it adds additional randomness to the model, while growing the trees. Instead of searching for the most important feature while splitting a node, it searches for the best feature among a random subset of features. This results in a wide diversity that generally results in a better model."
   ]
  },
  {
   "cell_type": "code",
   "execution_count": 81,
   "id": "86b45cfb",
   "metadata": {},
   "outputs": [
    {
     "name": "stdout",
     "output_type": "stream",
     "text": [
      "Fitting 5 folds for each of 50 candidates, totalling 250 fits\n"
     ]
    },
    {
     "data": {
      "text/plain": [
       "GridSearchCV(estimator=RandomForestClassifier(class_weight='balanced',\n",
       "                                              n_jobs=-1, random_state=100),\n",
       "             n_jobs=-1,\n",
       "             param_grid={'max_depth': [3, 5, 10, 15, 20],\n",
       "                         'max_features': ['auto', 'sqrt'],\n",
       "                         'min_samples_leaf': [40, 60, 100, 150, 200],\n",
       "                         'n_estimators': [200]},\n",
       "             scoring='accuracy', verbose=1)"
      ]
     },
     "execution_count": 81,
     "metadata": {},
     "output_type": "execute_result"
    }
   ],
   "source": [
    "# creating a RF classifier\n",
    "model = RandomForestClassifier(random_state=100,n_jobs=-1,class_weight='balanced')\n",
    "\n",
    "# Number of trees in random forest\n",
    "n_estimators = [200]\n",
    "# Number of features to consider at every split\n",
    "max_features = ['auto', 'sqrt']\n",
    "# Maximum number of levels in tree\n",
    "max_depth = [3,5,10,15,20]\n",
    "# Minimum number of samples required at each leaf node\n",
    "min_samples_leaf = [40, 60, 100, 150, 200]\n",
    "\n",
    "# On each iteration, the algorithm will choose a difference combination of the features.\n",
    "params = {'n_estimators': n_estimators,\n",
    "          'max_features': max_features,\n",
    "          'min_samples_leaf': min_samples_leaf,\n",
    "          'max_depth':max_depth}\n",
    "\n",
    "# Instantiate the grid search model\n",
    "grid_search = GridSearchCV(estimator= model, param_grid=params, verbose=1, n_jobs=-1, scoring='accuracy')\n",
    "grid_search.fit(X_train,y_train)"
   ]
  },
  {
   "cell_type": "code",
   "execution_count": 82,
   "id": "4b38d55d",
   "metadata": {},
   "outputs": [],
   "source": [
    "best_grid = grid_search.best_estimator_\n",
    "# performing predictions on the test dataset\n",
    "y_train_pred = best_grid.predict(X_train)\n",
    "y_test_pred = best_grid.predict(X_test)"
   ]
  },
  {
   "cell_type": "code",
   "execution_count": 83,
   "id": "f9d2db40",
   "metadata": {},
   "outputs": [
    {
     "name": "stdout",
     "output_type": "stream",
     "text": [
      "Train Accuracy : 0.8745209762000806\n",
      "Train Recall : 0.8444592790387183\n"
     ]
    }
   ],
   "source": [
    "print('Train Accuracy :',accuracy_score(y_train, y_train_pred))\n",
    "print('Train Recall :', recall_score(y_train, y_train_pred))"
   ]
  },
  {
   "cell_type": "code",
   "execution_count": 84,
   "id": "2433200e",
   "metadata": {},
   "outputs": [
    {
     "name": "stdout",
     "output_type": "stream",
     "text": [
      "Test Accuracy : 0.8686970552642195\n",
      "Test Recall : 0.7924528301886793\n"
     ]
    }
   ],
   "source": [
    "print('Test Accuracy :',accuracy_score(y_test,y_test_pred))\n",
    "print('Test Recall :',recall_score(y_test,y_test_pred))"
   ]
  },
  {
   "cell_type": "markdown",
   "id": "b7c0ff25",
   "metadata": {},
   "source": [
    "Getting all the feature in accordance to how importance they are to the target"
   ]
  },
  {
   "cell_type": "code",
   "execution_count": 85,
   "id": "123c38cf",
   "metadata": {},
   "outputs": [
    {
     "data": {
      "text/html": [
       "<div>\n",
       "<style scoped>\n",
       "    .dataframe tbody tr th:only-of-type {\n",
       "        vertical-align: middle;\n",
       "    }\n",
       "\n",
       "    .dataframe tbody tr th {\n",
       "        vertical-align: top;\n",
       "    }\n",
       "\n",
       "    .dataframe thead th {\n",
       "        text-align: right;\n",
       "    }\n",
       "</style>\n",
       "<table border=\"1\" class=\"dataframe\">\n",
       "  <thead>\n",
       "    <tr style=\"text-align: right;\">\n",
       "      <th></th>\n",
       "      <th>importance</th>\n",
       "    </tr>\n",
       "    <tr>\n",
       "      <th>feature</th>\n",
       "      <th></th>\n",
       "    </tr>\n",
       "  </thead>\n",
       "  <tbody>\n",
       "    <tr>\n",
       "      <th>0-15 Min</th>\n",
       "      <td>0.308172</td>\n",
       "    </tr>\n",
       "    <tr>\n",
       "      <th>search_conducted</th>\n",
       "      <td>0.205302</td>\n",
       "    </tr>\n",
       "    <tr>\n",
       "      <th>Speeding</th>\n",
       "      <td>0.108947</td>\n",
       "    </tr>\n",
       "    <tr>\n",
       "      <th>30+ Min</th>\n",
       "      <td>0.100467</td>\n",
       "    </tr>\n",
       "    <tr>\n",
       "      <th>age</th>\n",
       "      <td>0.074120</td>\n",
       "    </tr>\n",
       "    <tr>\n",
       "      <th>16-30 Min</th>\n",
       "      <td>0.068342</td>\n",
       "    </tr>\n",
       "    <tr>\n",
       "      <th>stop_hour</th>\n",
       "      <td>0.048360</td>\n",
       "    </tr>\n",
       "    <tr>\n",
       "      <th>Registration/plates</th>\n",
       "      <td>0.015441</td>\n",
       "    </tr>\n",
       "    <tr>\n",
       "      <th>Equipment</th>\n",
       "      <td>0.014337</td>\n",
       "    </tr>\n",
       "    <tr>\n",
       "      <th>Moving violation</th>\n",
       "      <td>0.013757</td>\n",
       "    </tr>\n",
       "    <tr>\n",
       "      <th>White</th>\n",
       "      <td>0.011641</td>\n",
       "    </tr>\n",
       "    <tr>\n",
       "      <th>Black</th>\n",
       "      <td>0.008905</td>\n",
       "    </tr>\n",
       "    <tr>\n",
       "      <th>gender</th>\n",
       "      <td>0.008422</td>\n",
       "    </tr>\n",
       "    <tr>\n",
       "      <th>Other</th>\n",
       "      <td>0.006334</td>\n",
       "    </tr>\n",
       "    <tr>\n",
       "      <th>Hispanic</th>\n",
       "      <td>0.003734</td>\n",
       "    </tr>\n",
       "    <tr>\n",
       "      <th>drugs_related_stop</th>\n",
       "      <td>0.002505</td>\n",
       "    </tr>\n",
       "    <tr>\n",
       "      <th>Asian</th>\n",
       "      <td>0.001188</td>\n",
       "    </tr>\n",
       "    <tr>\n",
       "      <th>Other</th>\n",
       "      <td>0.000025</td>\n",
       "    </tr>\n",
       "  </tbody>\n",
       "</table>\n",
       "</div>"
      ],
      "text/plain": [
       "                     importance\n",
       "feature                        \n",
       "0-15 Min               0.308172\n",
       "search_conducted       0.205302\n",
       "Speeding               0.108947\n",
       "30+ Min                0.100467\n",
       "age                    0.074120\n",
       "16-30 Min              0.068342\n",
       "stop_hour              0.048360\n",
       "Registration/plates    0.015441\n",
       "Equipment              0.014337\n",
       "Moving violation       0.013757\n",
       "White                  0.011641\n",
       "Black                  0.008905\n",
       "gender                 0.008422\n",
       "Other                  0.006334\n",
       "Hispanic               0.003734\n",
       "drugs_related_stop     0.002505\n",
       "Asian                  0.001188\n",
       "Other                  0.000025"
      ]
     },
     "execution_count": 85,
     "metadata": {},
     "output_type": "execute_result"
    }
   ],
   "source": [
    "feature_importance = pd.DataFrame({'feature': X_train.columns,'importance': best_grid.feature_importances_})\n",
    "feature_importance.sort_values('importance', ascending=False, inplace=True)\n",
    "feature_importance.set_index('feature', inplace=True)\n",
    "feature_importance"
   ]
  },
  {
   "cell_type": "markdown",
   "id": "a189219b",
   "metadata": {},
   "source": [
    "Now we have the top 10 variables that contributes to the prediction. We can plot it to better visualise it."
   ]
  },
  {
   "cell_type": "code",
   "execution_count": 86,
   "id": "3ab9230b",
   "metadata": {},
   "outputs": [
    {
     "data": {
      "image/png": "[encoded data removed]",
      "text/plain": [
       "<Figure size 1080x720 with 1 Axes>"
      ]
     },
     "metadata": {},
     "output_type": "display_data"
    }
   ],
   "source": [
    "plt.figure(figsize=(15,10))\n",
    "sns.barplot(x = feature_importance.importance, y = feature_importance.index)\n",
    "plt.title('Feature vs Importance')\n",
    "plt.ylabel('Feature')\n",
    "plt.xlabel('Importance')\n",
    "plt.show()"
   ]
  },
  {
   "cell_type": "markdown",
   "id": "9a8c844d",
   "metadata": {},
   "source": [
    "From the above plot it can be seen that the top features that resulted in arrest were\n",
    "  - stop duration that were less 15 mins\n",
    "  - when search was conducted\n",
    "  - when it was a speeding type of violation\n",
    "  - stop duration that lasted for more than 30 mins which mean\n",
    "  - age also seem to be of some importance, which mean that what I said about regarding which age group are likely to commit violation can be used to predict.\n",
    "  - this show that some arrest were decided very quickly and some took a long time to decide so stop duration seem of little importance here.\n",
    "  - this show that speeding is a very important indicator of whether an accident will occur or not. Speeding violation should not be taken likely as the majority of accidents occur from it.\n",
    "  - Race shows little to no importance meaning a race of a person cannot indicated whether that person is going to commit a violation."
   ]
  },
  {
   "cell_type": "markdown",
   "id": "c37ce297",
   "metadata": {},
   "source": [
    "### III. Conclusion\n",
    "  - https://towardsdatascience.com/ways-to-evaluate-regression-models-77a3ff45ba70 (for rmse)\n",
    "  - https://www.javatpoint.com/rsme-root-mean-square-error-in-python (for rmse)"
   ]
  },
  {
   "cell_type": "markdown",
   "id": "f3733372",
   "metadata": {},
   "source": [
    "#### 1. Evaluate the results of the machine learning model.\n",
    "https://www.obviously.ai/post/machine-learning-model-performance"
   ]
  },
  {
   "cell_type": "markdown",
   "id": "b4ed69ca",
   "metadata": {},
   "source": [
    "The accuracy score has already been mentioned in the previous section and they were as follows:"
   ]
  },
  {
   "cell_type": "code",
   "execution_count": 87,
   "id": "a8ea4d51",
   "metadata": {},
   "outputs": [
    {
     "name": "stdout",
     "output_type": "stream",
     "text": [
      "Train Accuracy : 0.8745209762000806\n",
      "Train Recall : 0.8444592790387183\n"
     ]
    }
   ],
   "source": [
    "print('Train Accuracy :',accuracy_score(y_train, y_train_pred))\n",
    "print('Train Recall :', recall_score(y_train, y_train_pred))"
   ]
  },
  {
   "cell_type": "code",
   "execution_count": 88,
   "id": "6f552798",
   "metadata": {},
   "outputs": [
    {
     "name": "stdout",
     "output_type": "stream",
     "text": [
      "Test Accuracy : 0.8686970552642195\n",
      "Test Recall : 0.7924528301886793\n"
     ]
    }
   ],
   "source": [
    "print('Test Accuracy :',accuracy_score(y_test,y_test_pred))\n",
    "print('Test Recall :',recall_score(y_test,y_test_pred))"
   ]
  },
  {
   "cell_type": "markdown",
   "id": "4e5b6884",
   "metadata": {},
   "source": [
    "Good accuracy in machine learning is subjective. Anything greater than 70% is a great model performance. In fact, an accuracy measure of anything between 70%-90% is not only ideal, it's realistic. Recall is a measure of how many of the positive cases the classifier correctly predicted, over all the positive cases in the data. In both cases I think the model I made is a good model."
   ]
  },
  {
   "cell_type": "markdown",
   "id": "110180bf",
   "metadata": {},
   "source": [
    "In statistical modeling and particularly regression analyses, a common way of measuring the quality of the fit of the model is the RMSE (also called Root Mean Square Deviation). Using RSME, we can easily measure the efficiency of the model."
   ]
  },
  {
   "cell_type": "code",
   "execution_count": 89,
   "id": "c386c26b",
   "metadata": {},
   "outputs": [
    {
     "name": "stdout",
     "output_type": "stream",
     "text": [
      "The difference between actual and predicted values is:\n",
      "0.3623574819646761\n"
     ]
    }
   ],
   "source": [
    "mse = mean_squared_error(y_test, y_test_pred)\n",
    "rmse = math.sqrt(mse)\n",
    "\n",
    "print(\"The difference between actual and predicted values is:\")\n",
    "print(rmse)      "
   ]
  },
  {
   "cell_type": "markdown",
   "id": "efc7bbdd",
   "metadata": {},
   "source": [
    "From the above result it can be seen that the model I made is an efficient one as the lower the value of the RMSE, the better the model is. RMSE gives an estimation of how well the model is able to predict the target value (accuracy)."
   ]
  },
  {
   "cell_type": "markdown",
   "id": "d5a7b6b6",
   "metadata": {},
   "source": [
    "#### 2. Reflective evaluation of the developed project"
   ]
  },
  {
   "cell_type": "markdown",
   "id": "96e037ad",
   "metadata": {},
   "source": [
    "- I have already listed the result i got using the predictive model I made using regression above in the Regression model section last part\n",
    "- From the result all I can say for certainty is that speeding and whether a search was conducted are the only 2 reliable features that can be used to predict whether a person is likely to commit a traffic violation. The findings of this study (which I by no means say is reliable as the dataset could be biased or I could make mistakes etc.) could help prevent some traffic-violations or reduce the chance of occurrence by finding the attributes of a person who is likely to commit a traffic violation. These results can be used to increase cautions and traffic-safety tips."
   ]
  },
  {
   "cell_type": "markdown",
   "id": "bdc91edb",
   "metadata": {},
   "source": [
    "Some further finding regarding correlation and information about the features are as follows:\n",
    " - There seems to be a record of traffic violations for minimum age as low as 15 and as high as 88 showing no age group is safe from it\n",
    " - Frquent form of violation is speeding as expected\n",
    " - Drive only during the late evening hours avoiding the 23:00 to 00:00 timeframe and 7:00 to 15:00 timeframe. (Just kidding) "
   ]
  },
  {
   "cell_type": "markdown",
   "id": "b9d4d07a",
   "metadata": {},
   "source": [
    "Whether the project can be reproduced by using different programming languages?\n",
    "\n",
    "\n",
    "The R language could be used to reproduced this project. The R language has become popular because it lets researchers easily combine different machine learning techniques into a single program. It also provides a simple way to share code between researchers.\n",
    " R is great for statistical computing and analysis, while Python is easier to use and read. Python is better than R as it can be used for multiple purposes. It has better scalability, performance, integration, etc. However, if the purpose is data analysis and visualization, R is a better option. So if I wanted better visualisation I could use R."
   ]
  },
  {
   "cell_type": "markdown",
   "id": "62de72d9",
   "metadata": {},
   "source": [
    "Future follow up:\n",
    "\n",
    "I did not have much time to do this project but if I were to get this chance again I would look to find better questions to ask and make a better prediction model. I have made a very simple regression model and as its my first time it took a lot of researching to understand how each part works and I would have changed the direction of the report in the beginning to focus more on the features I had used in the model building. I hope my explanation has been sufficient in regard to explaining each component of my project and the layout has been easy to follow. I tried my best with the time I had. Hope you have liked my study of this dataset."
   ]
  },
  {
   "cell_type": "markdown",
   "id": "9e712c7b",
   "metadata": {},
   "source": [
    "#### References and Resources"
   ]
  },
  {
   "cell_type": "markdown",
   "id": "0a774cd5",
   "metadata": {},
   "source": [
    "References & resources were included along the way as I progressed with the project as I used referenced for most of the project and it would have taken alot of going back and forth to verify everything"
   ]
  }
 ],
 "metadata": {
  "kernelspec": {
   "display_name": "Python 3 (ipykernel)",
   "language": "python",
   "name": "python3"
  },
  "language_info": {
   "codemirror_mode": {
    "name": "ipython",
    "version": 3
   },
   "file_extension": ".py",
   "mimetype": "text/x-python",
   "name": "python",
   "nbconvert_exporter": "python",
   "pygments_lexer": "ipython3",
   "version": "3.9.12"
  }
 },
 "nbformat": 4,
 "nbformat_minor": 5
}
